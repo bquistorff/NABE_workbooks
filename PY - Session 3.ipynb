{
 "cells": [
  {
   "cell_type": "markdown",
   "id": "9a224a9e-4942-477f-87cf-f7daf5d1b0d4",
   "metadata": {},
   "source": [
    "# Trees and Forests"
   ]
  },
  {
   "cell_type": "code",
   "execution_count": 1,
   "id": "d1be3d6e-39fd-45a0-915a-7ae5312e2bf3",
   "metadata": {},
   "outputs": [],
   "source": [
    "import numpy as np\n",
    "import pandas as pd\n",
    "import matplotlib.pyplot as plt\n",
    "\n",
    "import sklearn\n",
    "from sklearn.ensemble import RandomForestRegressor"
   ]
  },
  {
   "cell_type": "code",
   "execution_count": 2,
   "id": "04eab5b2-63dd-494c-b76f-f74074bfb2c1",
   "metadata": {},
   "outputs": [
    {
     "data": {
      "text/html": [
       "<div>\n",
       "<style scoped>\n",
       "    .dataframe tbody tr th:only-of-type {\n",
       "        vertical-align: middle;\n",
       "    }\n",
       "\n",
       "    .dataframe tbody tr th {\n",
       "        vertical-align: top;\n",
       "    }\n",
       "\n",
       "    .dataframe thead th {\n",
       "        text-align: right;\n",
       "    }\n",
       "</style>\n",
       "<table border=\"1\" class=\"dataframe\">\n",
       "  <thead>\n",
       "    <tr style=\"text-align: right;\">\n",
       "      <th></th>\n",
       "      <th>LOGVALUE</th>\n",
       "      <th>LOT</th>\n",
       "      <th>UNITSF</th>\n",
       "      <th>CLIMB</th>\n",
       "      <th>DIRAC</th>\n",
       "      <th>NUMAIR</th>\n",
       "      <th>BUSPER</th>\n",
       "      <th>EXCLUS</th>\n",
       "      <th>HOWH</th>\n",
       "      <th>NUMCOLD</th>\n",
       "      <th>...</th>\n",
       "      <th>ZADEQ</th>\n",
       "      <th>EROACH</th>\n",
       "      <th>EVROD</th>\n",
       "      <th>CRACKS</th>\n",
       "      <th>HOLES</th>\n",
       "      <th>NOWIRE</th>\n",
       "      <th>AGE</th>\n",
       "      <th>WHN</th>\n",
       "      <th>LOGSQFT</th>\n",
       "      <th>LOGLOT</th>\n",
       "    </tr>\n",
       "  </thead>\n",
       "  <tbody>\n",
       "    <tr>\n",
       "      <th>0</th>\n",
       "      <td>0.693147</td>\n",
       "      <td>900.0</td>\n",
       "      <td>2314.179989</td>\n",
       "      <td>2.011952</td>\n",
       "      <td>1.51928</td>\n",
       "      <td>1.730885</td>\n",
       "      <td>0.0</td>\n",
       "      <td>0.0</td>\n",
       "      <td>6.0</td>\n",
       "      <td>1.828194</td>\n",
       "      <td>...</td>\n",
       "      <td>1</td>\n",
       "      <td>2</td>\n",
       "      <td>2</td>\n",
       "      <td>2</td>\n",
       "      <td>2</td>\n",
       "      <td>1</td>\n",
       "      <td>91</td>\n",
       "      <td>41</td>\n",
       "      <td>7.746811</td>\n",
       "      <td>6.802395</td>\n",
       "    </tr>\n",
       "    <tr>\n",
       "      <th>1</th>\n",
       "      <td>0.693147</td>\n",
       "      <td>14520.0</td>\n",
       "      <td>2500.000000</td>\n",
       "      <td>2.011952</td>\n",
       "      <td>1.51928</td>\n",
       "      <td>1.730885</td>\n",
       "      <td>0.0</td>\n",
       "      <td>0.0</td>\n",
       "      <td>10.0</td>\n",
       "      <td>1.828194</td>\n",
       "      <td>...</td>\n",
       "      <td>1</td>\n",
       "      <td>2</td>\n",
       "      <td>2</td>\n",
       "      <td>2</td>\n",
       "      <td>2</td>\n",
       "      <td>1</td>\n",
       "      <td>2</td>\n",
       "      <td>2</td>\n",
       "      <td>7.824046</td>\n",
       "      <td>9.583282</td>\n",
       "    </tr>\n",
       "    <tr>\n",
       "      <th>2</th>\n",
       "      <td>0.693147</td>\n",
       "      <td>11000.0</td>\n",
       "      <td>7507.000000</td>\n",
       "      <td>2.011952</td>\n",
       "      <td>1.51928</td>\n",
       "      <td>1.000000</td>\n",
       "      <td>0.0</td>\n",
       "      <td>0.0</td>\n",
       "      <td>9.0</td>\n",
       "      <td>1.828194</td>\n",
       "      <td>...</td>\n",
       "      <td>1</td>\n",
       "      <td>2</td>\n",
       "      <td>2</td>\n",
       "      <td>2</td>\n",
       "      <td>2</td>\n",
       "      <td>1</td>\n",
       "      <td>26</td>\n",
       "      <td>18</td>\n",
       "      <td>8.923591</td>\n",
       "      <td>9.305651</td>\n",
       "    </tr>\n",
       "    <tr>\n",
       "      <th>3</th>\n",
       "      <td>1.609438</td>\n",
       "      <td>23760.0</td>\n",
       "      <td>830.000000</td>\n",
       "      <td>2.011952</td>\n",
       "      <td>1.51928</td>\n",
       "      <td>1.000000</td>\n",
       "      <td>0.0</td>\n",
       "      <td>0.0</td>\n",
       "      <td>10.0</td>\n",
       "      <td>1.828194</td>\n",
       "      <td>...</td>\n",
       "      <td>1</td>\n",
       "      <td>2</td>\n",
       "      <td>1</td>\n",
       "      <td>2</td>\n",
       "      <td>2</td>\n",
       "      <td>1</td>\n",
       "      <td>36</td>\n",
       "      <td>15</td>\n",
       "      <td>6.721426</td>\n",
       "      <td>10.075759</td>\n",
       "    </tr>\n",
       "    <tr>\n",
       "      <th>4</th>\n",
       "      <td>1.609438</td>\n",
       "      <td>3000.0</td>\n",
       "      <td>1100.000000</td>\n",
       "      <td>2.011952</td>\n",
       "      <td>1.51928</td>\n",
       "      <td>4.000000</td>\n",
       "      <td>0.0</td>\n",
       "      <td>0.0</td>\n",
       "      <td>7.0</td>\n",
       "      <td>1.828194</td>\n",
       "      <td>...</td>\n",
       "      <td>1</td>\n",
       "      <td>2</td>\n",
       "      <td>2</td>\n",
       "      <td>1</td>\n",
       "      <td>2</td>\n",
       "      <td>1</td>\n",
       "      <td>26</td>\n",
       "      <td>4</td>\n",
       "      <td>7.003065</td>\n",
       "      <td>8.006368</td>\n",
       "    </tr>\n",
       "  </tbody>\n",
       "</table>\n",
       "<p>5 rows × 214 columns</p>\n",
       "</div>"
      ],
      "text/plain": [
       "   LOGVALUE      LOT       UNITSF     CLIMB    DIRAC    NUMAIR  BUSPER  \\\n",
       "0  0.693147    900.0  2314.179989  2.011952  1.51928  1.730885     0.0   \n",
       "1  0.693147  14520.0  2500.000000  2.011952  1.51928  1.730885     0.0   \n",
       "2  0.693147  11000.0  7507.000000  2.011952  1.51928  1.000000     0.0   \n",
       "3  1.609438  23760.0   830.000000  2.011952  1.51928  1.000000     0.0   \n",
       "4  1.609438   3000.0  1100.000000  2.011952  1.51928  4.000000     0.0   \n",
       "\n",
       "   EXCLUS  HOWH   NUMCOLD  ...  ZADEQ  EROACH  EVROD  CRACKS  HOLES  NOWIRE  \\\n",
       "0     0.0   6.0  1.828194  ...      1       2      2       2      2       1   \n",
       "1     0.0  10.0  1.828194  ...      1       2      2       2      2       1   \n",
       "2     0.0   9.0  1.828194  ...      1       2      2       2      2       1   \n",
       "3     0.0  10.0  1.828194  ...      1       2      1       2      2       1   \n",
       "4     0.0   7.0  1.828194  ...      1       2      2       1      2       1   \n",
       "\n",
       "   AGE  WHN   LOGSQFT     LOGLOT  \n",
       "0   91   41  7.746811   6.802395  \n",
       "1    2    2  7.824046   9.583282  \n",
       "2   26   18  8.923591   9.305651  \n",
       "3   36   15  6.721426  10.075759  \n",
       "4   26    4  7.003065   8.006368  \n",
       "\n",
       "[5 rows x 214 columns]"
      ]
     },
     "execution_count": 2,
     "metadata": {},
     "output_type": "execute_result"
    }
   ],
   "source": [
    "Housing = pd.read_csv('ahs_clean.zip', compression='zip')\n",
    "y = Housing['LOGVALUE']\n",
    "Housing['LOGSQFT'] = np.log(Housing['UNITSF'])\n",
    "Housing['LOGLOT'] = np.log(Housing['LOT'])\n",
    "Housing.head()"
   ]
  },
  {
   "cell_type": "code",
   "execution_count": 3,
   "id": "5f0df1a9-76ca-4340-b198-b70c564fd4c6",
   "metadata": {},
   "outputs": [],
   "source": [
    "Xvars1 = ['LOGLOT','LOGSQFT','BEDRMS','BATHS']\n",
    "Xvars2 = Xvars1 + ['REGION','METRO','KITCHEN','DISH', 'WASH','DRY','COOK','DENS','DINING', \n",
    "                   'FAMRM','HALFB','LIVING','OTHFN', 'RECRM','PORCH','SINK','LAUNDY', \n",
    "                   'FLOORS','CONDO','ROOMS','PLUMB', 'NOWIRE','AGE']\n",
    "Xvars3 = Xvars2 + [n for n in Housing.columns if n.startswith('ROACH') | n.startswith('RATS') | n.startswith('WATER') | n.startswith('CELLAR') | n.startswith('NUM') | n.startswith('FREEZE')]\n",
    "X3 = Housing[Xvars3]"
   ]
  },
  {
   "cell_type": "markdown",
   "id": "b2f3cec2-98ba-486f-96e7-c6dcc225ee58",
   "metadata": {},
   "source": [
    "# Decision Tree (CART)\n",
    "First we will use a [DecisionTree](https://scikit-learn.org/stable/modules/generated/sklearn.tree.DecisionTreeRegressor.html)."
   ]
  },
  {
   "cell_type": "code",
   "execution_count": 37,
   "id": "901c8e0d-da84-4ac6-9802-15451db7225c",
   "metadata": {},
   "outputs": [
    {
     "name": "stdout",
     "output_type": "stream",
     "text": [
      "2021-09-17 13:48:55.447657\n",
      "2021-09-17 13:51:00.891220\n"
     ]
    }
   ],
   "source": [
    "def reprune_dt(dt, alpha):\n",
    "    dt.ccp_alpha=alpha\n",
    "    dt._prune_tree()\n",
    "    \n",
    "def CART_CV(X, y, cv=5, fast=True, min_samples_split=20, min_samples_leaf=7):\n",
    "    #https://scikit-learn.org/stable/auto_examples/tree/plot_cost_complexity_pruning.html#sphx-glr-auto-examples-tree-plot-cost-complexity-pruning-py\n",
    "    #^^ odly doesn't do K-fold and is slow\n",
    "    dt = sklearn.tree.DecisionTreeRegressor(random_state=0, min_samples_split=min_samples_split, min_samples_leaf=min_samples_leaf)\n",
    "    ccp_alphas = dt.cost_complexity_pruning_path(X, y).ccp_alphas #from low to high\n",
    "\n",
    "    if fast:\n",
    "        kf = sklearn.model_selection.KFold(n_splits=cv)\n",
    "        scores_cv = np.empty((cv,len(ccp_alphas)))\n",
    "        for f, (train, test) in enumerate(kf.split(X)):\n",
    "            X_train, y_train = X[train,:], y[train] \n",
    "            X_test , y_test  = X[test ,:], y[test] \n",
    "            dt = sklearn.tree.DecisionTreeRegressor(random_state=0, min_samples_split=min_samples_split, min_samples_leaf=min_samples_leaf).fit(X_train, y_train)\n",
    "            for alpha_i, alpha in enumerate(ccp_alphas):\n",
    "                reprune_dt(dt, alpha)\n",
    "                scores_cv[f, alpha_i] = -np.square(dt.predict(X_test) - y_test).mean()\n",
    "            \n",
    "        scores = scores_cv.mean(axis=0)\n",
    "    else:\n",
    "        scores = np.empty(len(ccp_alphas))\n",
    "        for alpha_i, ccp_alpha in enumerate(ccp_alphas):\n",
    "            score = sklearn.model_selection.cross_val_score(sklearn.tree.DecisionTreeRegressor(random_state=0, ccp_alpha=ccp_alpha, min_samples_split=min_samples_split, min_samples_leaf=min_samples_leaf), X, y, scoring='neg_mean_squared_error')\n",
    "            scores[alpha_i] = score\n",
    "        \n",
    "    alpha_best = ccp_alphas[np.argmax(scores)]\n",
    "    \n",
    "    dt = sklearn.tree.DecisionTreeRegressor(random_state=0, ccp_alpha=alpha_best, min_samples_split=min_samples_split, min_samples_leaf=min_samples_leaf).fit(X, y)\n",
    "    return([dt, scores, ccp_alphs])\n",
    "\n",
    "from datetime import datetime\n",
    "print(datetime.now())\n",
    "dt_best, scores, ccp_alphas = CART_CV(X3.to_numpy(), y.to_numpy())\n",
    "print(datetime.now())"
   ]
  },
  {
   "cell_type": "markdown",
   "id": "69a4b993-cfbb-43d0-a636-ae2637b2a634",
   "metadata": {},
   "source": [
    "print(scores.shape, np.argmax(scores))\n",
    "plt.plot(range(len(scores)), -scores)"
   ]
  },
  {
   "cell_type": "code",
   "execution_count": 38,
   "id": "87a5789e-8d40-430d-9aa0-3a09687d1646",
   "metadata": {},
   "outputs": [
    {
     "data": {
      "image/png": "[encoded data removed]",
      "text/plain": [
       "<Figure size 432x288 with 1 Axes>"
      ]
     },
     "metadata": {
      "needs_background": "light"
     },
     "output_type": "display_data"
    }
   ],
   "source": [
    "plt.figure()\n",
    "sklearn.tree.plot_tree(dt_best)\n",
    "plt.show()\n",
    "\n",
    "#print(sklearn.tree.export_text(dt_best))\n",
    "\n",
    "#leaves  = dt_best.apply(X3.to_numpy())\n",
    "#dt_val, dt_counts = np.unique(leaves, return_counts=True)\n",
    "#print(np.asarray((dt_val, dt_counts)).T)"
   ]
  },
  {
   "cell_type": "markdown",
   "id": "4ef5bfd1-4219-4b41-bf3b-b00d341758fb",
   "metadata": {},
   "source": [
    "# Random Forest\n",
    "Next we will use a [RandomForest](https://scikit-learn.org/stable/modules/generated/sklearn.ensemble.RandomForestRegressor.html)"
   ]
  },
  {
   "cell_type": "code",
   "execution_count": 47,
   "id": "a81d1aa8-9275-491f-9a85-947caa626e14",
   "metadata": {},
   "outputs": [
    {
     "name": "stdout",
     "output_type": "stream",
     "text": [
      "2021-09-17 21:15:05.775465\n",
      "2021-09-17 21:15:47.533624\n"
     ]
    }
   ],
   "source": [
    "print(datetime.now())\n",
    "rf = RandomForestRegressor(n_estimators=100, min_samples_split=20, min_samples_leaf=7).fit(X, y)\n",
    "print(datetime.now())"
   ]
  },
  {
   "cell_type": "code",
   "execution_count": 45,
   "id": "9b1f884f-1ff1-4810-a774-c5df5579aa09",
   "metadata": {},
   "outputs": [],
   "source": []
  },
  {
   "cell_type": "code",
   "execution_count": null,
   "id": "b05971f6-39f8-477a-9213-31c1acbf77a3",
   "metadata": {},
   "outputs": [],
   "source": []
  }
 ],
 "metadata": {
  "kernelspec": {
   "display_name": "Python 3 (ipykernel)",
   "language": "python",
   "name": "python3"
  },
  "language_info": {
   "codemirror_mode": {
    "name": "ipython",
    "version": 3
   },
   "file_extension": ".py",
   "mimetype": "text/x-python",
   "name": "python",
   "nbconvert_exporter": "python",
   "pygments_lexer": "ipython3",
   "version": "3.8.12"
  }
 },
 "nbformat": 4,
 "nbformat_minor": 5
}
