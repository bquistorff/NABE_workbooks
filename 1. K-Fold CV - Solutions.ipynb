{
 "cells": [
  {
   "cell_type": "code",
   "execution_count": 3,
   "metadata": {},
   "outputs": [
    {
     "name": "stderr",
     "output_type": "stream",
     "text": [
      "Warning message:\n",
      "\"package 'pryr' was built under R version 4.0.5\"\n",
      "\n",
      "Attaching package: 'pryr'\n",
      "\n",
      "\n",
      "The following objects are masked from 'package:purrr':\n",
      "\n",
      "    compose, partial\n",
      "\n",
      "\n"
     ]
    }
   ],
   "source": [
    "suppressWarnings(suppressMessages(library(tidyverse, quietly = TRUE, warn.conflicts = FALSE)))\n",
    "suppressWarnings(library(gridExtra, quietly = TRUE, warn.conflicts = FALSE))\n",
    "suppressWarnings(library(ggplot2, quietly = TRUE, warn.conflicts = FALSE))\n",
    "library(pryr, quietly = TRUE, warn.conflicts = FALSE))\n",
    "\n",
    "set.seed(27182)"
   ]
  },
  {
   "cell_type": "markdown",
   "metadata": {},
   "source": [
    "# In this module you will learn:\n",
    "\n",
    "1. Basic R data manipulation\n",
    "2. How to implement and use cross-validation\n",
    "3. Select the number of terms to include in a polynomial regression"
   ]
  },
  {
   "cell_type": "markdown",
   "metadata": {},
   "source": [
    "## Basic R data manipulation"
   ]
  },
  {
   "cell_type": "markdown",
   "metadata": {},
   "source": [
    "The basic statistical types in R are vectors, matrices, and data.frames. `c()` (concatente) can produce vectors. Data.frames have `row.names` that can either be an integer or string vector."
   ]
  },
  {
   "cell_type": "code",
   "execution_count": 3,
   "metadata": {},
   "outputs": [
    {
     "name": "stdout",
     "output_type": "stream",
     "text": [
      "[1] 1 2 3\n",
      "     [,1] [,2]\n",
      "[1,]    1    5\n",
      "[2,]    3    7\n",
      "  a b c\n",
      "1 1 3 5\n",
      "2 2 4 6\n",
      "3 3 5 7\n"
     ]
    }
   ],
   "source": [
    "v = c(1,2,3)\n",
    "print(v)\n",
    "m = matrix(c(1,3,5,7), ncol=2)\n",
    "print(m)\n",
    "d = data.frame(a=1:3, b=3:5, c=5:7)\n",
    "print(d)"
   ]
  },
  {
   "cell_type": "markdown",
   "metadata": {},
   "source": [
    "The normal operators work fine on these data types"
   ]
  },
  {
   "cell_type": "code",
   "execution_count": 4,
   "metadata": {},
   "outputs": [
    {
     "name": "stdout",
     "output_type": "stream",
     "text": [
      "[1] 2 4 6\n",
      "[1] 1 4 9\n",
      "     [,1] [,2]\n",
      "[1,]   16   40\n",
      "[2,]   24   64\n"
     ]
    }
   ],
   "source": [
    "print(v+v)\n",
    "print(v*v) #element-wise\n",
    "print(m %*% m) #matrix multiply"
   ]
  },
  {
   "cell_type": "markdown",
   "metadata": {},
   "source": [
    "Indexing can be with integers or boolean masks"
   ]
  },
  {
   "cell_type": "code",
   "execution_count": 5,
   "metadata": {},
   "outputs": [
    {
     "name": "stdout",
     "output_type": "stream",
     "text": [
      "[1] 1 2\n",
      "[1] 1 2\n",
      "[1] 5\n"
     ]
    }
   ],
   "source": [
    "print(v[c(TRUE,TRUE,FALSE, FALSE)])\n",
    "print(v[c(1,2)])\n",
    "print(m[c(1), c(FALSE, TRUE)])"
   ]
  },
  {
   "cell_type": "markdown",
   "metadata": {},
   "source": [
    "Data.frames columns can be accessed either by name or index position. Rows use the tuple method"
   ]
  },
  {
   "cell_type": "code",
   "execution_count": 6,
   "metadata": {},
   "outputs": [
    {
     "name": "stdout",
     "output_type": "stream",
     "text": [
      "  c\n",
      "1 5\n",
      "2 6\n",
      "3 7\n",
      "[1] 3 4 5\n",
      "  a b\n",
      "1 1 3\n",
      "2 2 4\n",
      "3 3 5\n",
      "  a\n",
      "1 1\n",
      "2 2\n"
     ]
    }
   ],
   "source": [
    "print(d[\"c\"])\n",
    "print(d$b) #drops to a vector\n",
    "print(d[c(1,2)])\n",
    "print(d[c(1,2), c(\"a\"), drop=FALSE]) #drop=FALSE keeps it from dropping rank down to a vector"
   ]
  },
  {
   "cell_type": "markdown",
   "metadata": {},
   "source": [
    "While most languages allow `vector+scalar`, R generalizes this concept by \"recycling\" the shorter one so that it works non-scalars. This can sometimes hide errors, so be careful."
   ]
  },
  {
   "cell_type": "code",
   "execution_count": 7,
   "metadata": {},
   "outputs": [
    {
     "name": "stdout",
     "output_type": "stream",
     "text": [
      "[1] 2 4 4 6\n"
     ]
    },
    {
     "name": "stderr",
     "output_type": "stream",
     "text": [
      "Warning message in 1:4 + 1:3:\n",
      "\"longer object length is not a multiple of shorter object length\"\n"
     ]
    },
    {
     "name": "stdout",
     "output_type": "stream",
     "text": [
      "[1] 2 4 6 5\n"
     ]
    }
   ],
   "source": [
    "print(1:4 + 1:2) #actually 1:4 + c(1,2,1,2)\n",
    "print(1:4 + 1:3) #actually 1:4 + c(1,2,3,1), but throws an warning"
   ]
  },
  {
   "cell_type": "markdown",
   "metadata": {},
   "source": [
    "R is 1-based indexing so [1] identifies the first element. And sequences `start`:`end` are inclusive."
   ]
  },
  {
   "cell_type": "code",
   "execution_count": 8,
   "metadata": {},
   "outputs": [
    {
     "name": "stdout",
     "output_type": "stream",
     "text": [
      "[1] 1\n",
      "[1] 2 3\n"
     ]
    }
   ],
   "source": [
    "v = c(1,2,3,4)\n",
    "print(v[1])\n",
    "print(v[2:3])"
   ]
  },
  {
   "cell_type": "markdown",
   "metadata": {},
   "source": [
    "Usually variables are \"passed by value\" in R (with some efficiencies to save on space). If you want to modify an object, you typically return the modified object."
   ]
  },
  {
   "cell_type": "code",
   "execution_count": 9,
   "metadata": {},
   "outputs": [
    {
     "name": "stdout",
     "output_type": "stream",
     "text": [
      "[1] 1 2 3\n",
      "[1] 1 2 3\n"
     ]
    }
   ],
   "source": [
    "mod_vars <- function(v) {\n",
    "    v[1] = 10\n",
    "}\n",
    "v = c(1,2,3)\n",
    "print(v)\n",
    "mod_vars(v)\n",
    "print(v)"
   ]
  },
  {
   "cell_type": "markdown",
   "metadata": {},
   "source": [
    "## Figuring things out\n",
    "Ways to figure things out:\n",
    "1. `?...`\n",
    "2. Cran PDF help\n",
    "3. Try things out!"
   ]
  },
  {
   "cell_type": "code",
   "execution_count": 43,
   "metadata": {},
   "outputs": [],
   "source": [
    "?lm"
   ]
  },
  {
   "cell_type": "markdown",
   "metadata": {},
   "source": [
    "# CV\n",
    "Instead of using real data we are going to generate our own. Why might we want to do this? We want to see if cross-validation works. If we use real data we don't know what the true model looks like. If we create the model ourselves we can determine if the process actually works!\n",
    "\n",
    "## Generating Data\n",
    "Lets generate data from a fourth order polynomial: $y=\\beta_0+\\beta_1x+\\beta_2x^2+\\beta_3x^3+\\beta_4x^4+\\varepsilon$\n",
    "\n",
    "The following code snippet shows how we can do this.\n"
   ]
  },
  {
   "cell_type": "code",
   "execution_count": 8,
   "metadata": {},
   "outputs": [
    {
     "data": {
      "text/html": [
       "<table class=\"dataframe\">\n",
       "<caption>A data.frame: 6 × 2</caption>\n",
       "<thead>\n",
       "\t<tr><th></th><th scope=col>y</th><th scope=col>x</th></tr>\n",
       "\t<tr><th></th><th scope=col>&lt;dbl&gt;</th><th scope=col>&lt;dbl&gt;</th></tr>\n",
       "</thead>\n",
       "<tbody>\n",
       "\t<tr><th scope=row>1</th><td>-3.8031504</td><td>-1.9561835</td></tr>\n",
       "\t<tr><th scope=row>2</th><td> 2.5147054</td><td>-0.3642259</td></tr>\n",
       "\t<tr><th scope=row>3</th><td> 0.3381272</td><td>-0.5018784</td></tr>\n",
       "\t<tr><th scope=row>4</th><td>-0.2740717</td><td>-0.5853449</td></tr>\n",
       "\t<tr><th scope=row>5</th><td> 4.1420894</td><td> 1.6863814</td></tr>\n",
       "\t<tr><th scope=row>6</th><td> 2.6749169</td><td>-1.1486379</td></tr>\n",
       "</tbody>\n",
       "</table>\n"
      ],
      "text/latex": [
       "A data.frame: 6 × 2\n",
       "\\begin{tabular}{r|ll}\n",
       "  & y & x\\\\\n",
       "  & <dbl> & <dbl>\\\\\n",
       "\\hline\n",
       "\t1 & -3.8031504 & -1.9561835\\\\\n",
       "\t2 &  2.5147054 & -0.3642259\\\\\n",
       "\t3 &  0.3381272 & -0.5018784\\\\\n",
       "\t4 & -0.2740717 & -0.5853449\\\\\n",
       "\t5 &  4.1420894 &  1.6863814\\\\\n",
       "\t6 &  2.6749169 & -1.1486379\\\\\n",
       "\\end{tabular}\n"
      ],
      "text/markdown": [
       "\n",
       "A data.frame: 6 × 2\n",
       "\n",
       "| <!--/--> | y &lt;dbl&gt; | x &lt;dbl&gt; |\n",
       "|---|---|---|\n",
       "| 1 | -3.8031504 | -1.9561835 |\n",
       "| 2 |  2.5147054 | -0.3642259 |\n",
       "| 3 |  0.3381272 | -0.5018784 |\n",
       "| 4 | -0.2740717 | -0.5853449 |\n",
       "| 5 |  4.1420894 |  1.6863814 |\n",
       "| 6 |  2.6749169 | -1.1486379 |\n",
       "\n"
      ],
      "text/plain": [
       "  y          x         \n",
       "1 -3.8031504 -1.9561835\n",
       "2  2.5147054 -0.3642259\n",
       "3  0.3381272 -0.5018784\n",
       "4 -0.2740717 -0.5853449\n",
       "5  4.1420894  1.6863814\n",
       "6  2.6749169 -1.1486379"
      ]
     },
     "metadata": {},
     "output_type": "display_data"
    }
   ],
   "source": [
    "#Mean outcome function\n",
    "degree4_ybar <- function(x1) {\n",
    "    beta_true = matrix(c(.2,-.01,.3,-.005)) # coefficient vector\n",
    "    alpha_true = 1\n",
    "    #featurize\n",
    "    x2 = x1^2 # squared    \n",
    "    x3 = x1^3 # cubed     \n",
    "    x4 = x1^4 # 4th power \n",
    "    X = cbind(x1,x2,x3,x4) # X is the concatenation of 4 column vectors\n",
    "    \n",
    "    ybar = alpha_true + X%*%beta_true\n",
    "    return(ybar)\n",
    "}\n",
    "\n",
    "#Generate random data\n",
    "degree4_dgp <- function(N) {\n",
    "    x1 = runif(N,-2,2) # generate N uniform rvs between -2,2\n",
    "    ybar = degree4_ybar(x1)\n",
    "    y = ybar + rnorm(N)*1.5\n",
    "    # y is generated from a 4th order polynomial with N(0,2.25) errors   \n",
    "    data = data.frame(cbind(y,x1))               \n",
    "    # creates a data frame from the \"observed\" covariates y and x \n",
    "    colnames(data) = c('y', 'x')\n",
    "    return(data)\n",
    "}\n",
    "N = 1500\n",
    "data = degree4_dgp(N)\n",
    "head(data)"
   ]
  },
  {
   "cell_type": "markdown",
   "metadata": {},
   "source": [
    "**Visualization**\n",
    "\n",
    "In practice we don't know the order of the polynomial. We only observe observations from $y$ and $x$. A great way to begin our examination of the truth would be to visualize the relationship through a scatter plot!\n",
    "\n"
   ]
  },
  {
   "cell_type": "code",
   "execution_count": 10,
   "metadata": {},
   "outputs": [
    {
     "data": {
      "image/png": "[encoded data removed]",
      "text/plain": [
       "plot without title"
      ]
     },
     "metadata": {
      "image/png": {
       "height": 420,
       "width": 420
      }
     },
     "output_type": "display_data"
    }
   ],
   "source": [
    "data %>% ggplot(aes(x=x, y=y)) + geom_point()                "
   ]
  },
  {
   "cell_type": "markdown",
   "metadata": {},
   "source": [
    "**What do we see?**\n",
    "\n",
    "The scatter plot suggests the relationship is nonlinear, but we need still don't know how many terms to include in a polynomial regression."
   ]
  },
  {
   "cell_type": "markdown",
   "metadata": {},
   "source": [
    "## In-sample vs out-of-sample errors"
   ]
  },
  {
   "cell_type": "code",
   "execution_count": 12,
   "metadata": {},
   "outputs": [
    {
     "name": "stdout",
     "output_type": "stream",
     "text": [
      "[1] 2.491914 2.491896 2.352930 2.350218 2.348243 2.348001 2.343787 2.342420\n"
     ]
    }
   ],
   "source": [
    "max_p = 8\n",
    "\n",
    "fit_poly <- function(d, p) {\n",
    "    deg=p\n",
    "    #Need the substitute(...) otherwise in predict it look again for 'p' (not fixed p used when fitting). Need 'deg=p' so it's found in this scope. If not in funciton, use pryr::subs\n",
    "    lm(pryr::subs(y~poly(x, degree=deg, raw=TRUE)), d)\n",
    "}\n",
    "fit_polys <- function(d, max_p) {\n",
    "    fit_models = list()\n",
    "    for(p in 1:max_p) {\n",
    "        fit_models[[p]] = fit_poly(d,p)\n",
    "    }\n",
    "    return(fit_models)\n",
    "}\n",
    "fit_models = fit_polys(data, max_p)\n",
    "\n",
    "is_mses = c()\n",
    "for(p in 1:max_p) {\n",
    "    y_hat = predict(fit_models[[p]])\n",
    "    is_mses[p] = mean((y_hat - data[[\"y\"]])^2)\n",
    "}\n",
    "print(is_mses)"
   ]
  },
  {
   "cell_type": "code",
   "execution_count": 14,
   "metadata": {},
   "outputs": [
    {
     "name": "stdout",
     "output_type": "stream",
     "text": [
      "[1] 2.376976 2.374946 2.287985 2.235902 2.274968 2.324239 2.229549 2.236690\n"
     ]
    }
   ],
   "source": [
    "pop_size = 10000\n",
    "true_oos_mse <- function(fit_model, dgp, N_new=pop_size) {\n",
    "    #For a known DGP we could analytically determine the true oos MSE, but this is simple and more general\n",
    "    data_val = dgp(N_new)\n",
    "    y_hat = predict(fit_model, newdata=data_val)\n",
    "    mean((y_hat-data_val[[\"y\"]])^2)\n",
    "}\n",
    "\n",
    "oos_mses = c()\n",
    "for(p in 1:max_p) {\n",
    "    oos_mses[p] = true_oos_mse(fit_models[[p]], degree4_dgp)\n",
    "}\n",
    "print(oos_mses)"
   ]
  },
  {
   "cell_type": "code",
   "execution_count": 24,
   "metadata": {},
   "outputs": [],
   "source": [
    "bias_var_decomp <- function(data, models, ybar_fn) {\n",
    "    S = length(models)\n",
    "    N = nrow(data)\n",
    "    \n",
    "    yhat = matrix(,nrow=N, ncol=S)\n",
    "    for(s in 1:S) {\n",
    "        yhat[,s] = predict(models[[s]], data)\n",
    "    }\n",
    "    \n",
    "    yhat_bar = rowMeans(yhat)\n",
    "    ybar = ybar_fn(data[[\"x\"]])\n",
    "    m_bias2 = (yhat_bar - ybar)^2\n",
    "    m_var = rowMeans((yhat - yhat_bar)^2) #Mat - vec does it for each column\n",
    "    m_mse = mean((yhat - data[[\"y\"]])^2)\n",
    "    return(c(mean(m_bias2), mean(m_var), m_mse))\n",
    "}"
   ]
  },
  {
   "cell_type": "code",
   "execution_count": 39,
   "metadata": {},
   "outputs": [],
   "source": [
    "n_sim=1000\n",
    "d_val = degree4_dgp(pop_size)\n",
    "is_mse_sim = matrix(,nrow = n_sim, ncol=max_p)\n",
    "m_bias = c()\n",
    "m_var = c()\n",
    "m_oos_mse = c()\n",
    "data_sim = lapply(1:n_sim, function(s) degree4_dgp(N))\n",
    "for(p in 1:max_p) {\n",
    "    fits = list()\n",
    "    for(s in 1:n_sim) {\n",
    "        d = data_sim[[s]]\n",
    "        fits[[s]] = fit_poly(d, p)\n",
    "        is_mse_sim[s,p] = mean((predict(fits[[s]]) - d[[\"y\"]])^2)\n",
    "    }\n",
    "    bv_ret = bias_var_decomp(d_val, fits, degree4_ybar)\n",
    "    m_bias[p] = bv_ret[1]\n",
    "    m_var[p] = bv_ret[2]\n",
    "    m_oos_mse[p] = bv_ret[3]\n",
    "}\n",
    "is_mse_sim_mean = colMeans(is_mse_sim) "
   ]
  },
  {
   "cell_type": "code",
   "execution_count": 11,
   "metadata": {},
   "outputs": [
    {
     "ename": "ERROR",
     "evalue": "Error in data.frame(p = 1:max_p, bias = m_bias, var = m_var, is = is_mse_sim_mean, : object 'max_p' not found\n",
     "output_type": "error",
     "traceback": [
      "Error in data.frame(p = 1:max_p, bias = m_bias, var = m_var, is = is_mse_sim_mean, : object 'max_p' not found\nTraceback:\n",
      "1. data.frame(p = 1:max_p, bias = m_bias, var = m_var, is = is_mse_sim_mean, \n .     oos = m_oos_mse)"
     ]
    }
   ],
   "source": [
    "metrics = data.frame(p=1:max_p, bias = m_bias, var=m_var, is=is_mse_sim_mean, oos = m_oos_mse)\n",
    "print(metrics)\n",
    "metrics %>% select(p, bias, var) %>% pivot_longer(!p, names_to=\"type\", values_to=\"val\") %>% ggplot(aes(x=p, y=val, color=type)) + geom_line()\n",
    "metrics %>% select(p, is, oos) %>% pivot_longer(!p, names_to=\"type\", values_to=\"val\") %>% ggplot(aes(x=p, y=val, color=type)) + geom_line()"
   ]
  },
  {
   "cell_type": "markdown",
   "metadata": {},
   "source": [
    "## Estimating OOS and CV"
   ]
  },
  {
   "cell_type": "markdown",
   "metadata": {},
   "source": [
    "### Sample Splitting\n",
    "\n",
    "Cross-validation can help us choose the right model! Since we are doing data driven model selection we first want to split our data so that we have a validation sample. Let's go ahead and take $10\\%$ of the sample for validation.\n",
    "\n",
    "Note: If your data has particular structure (panel, clustering, etc) you want to be careful about how you split/shuffle the data. In this case we know the structure and it will be ok to just slice off a random subsample.\n",
    "\n",
    "\n",
    "The following snippet is an example of a function. We will use a few of these throughout the course just to get an idea for what they look like. In this function we specify the data and how much of that data needs to be set asside for validation, the default is $10\\%$."
   ]
  },
  {
   "cell_type": "code",
   "execution_count": 11,
   "metadata": {},
   "outputs": [],
   "source": [
    "#Splitting the data\n",
    "\n",
    "data_split = function(data,split=.1){\n",
    "    N = dim(data)[1]\n",
    "    \n",
    "    # Randomly split by shuffling data\n",
    "    random = sample(1:N,N,replace=F)          \n",
    "    data = data[random,]\n",
    "    \n",
    "    c = round(N*split)\n",
    "    test = data[1:c,]           \n",
    "    train = data[(c+1):N,]\n",
    "    \n",
    "    return(list(train,test))\n",
    "}\n",
    "\n",
    "\n",
    "tmp = data_split(data) \n",
    "train_test = tmp[[1]]\n",
    "validation = tmp[[2]]"
   ]
  },
  {
   "cell_type": "markdown",
   "metadata": {},
   "source": [
    "**Number of terms**\n",
    "\n",
    "\n",
    "Before we can begin to utilize cross-validaiton we need to choose $P$, the number of models we are considering. The larger $P$ is, the longer our computation will take. However, we want to make sure the true $P$ is among the choices. This choice is going to be somewhat arbitrary, but higher order polynomial terms tend to have very small coefficients so we should be able to get away with something around $P=8$. \n",
    "\n",
    "**Number of folds?**\n",
    "\n",
    "Remember we also have to choose the number of folds $k$. In general we want to choose $k$ small enough that the correlation between samples doesn't get too large, but $k$ large enough that we split enough times. The standard choices are also a bit arbitrary but perform well in practice $k=5$ or $k=10$.\n",
    "\n"
   ]
  },
  {
   "cell_type": "markdown",
   "metadata": {},
   "source": [
    "### Cross-Validation\n",
    "\n",
    "Let's go ahead and look at $p={1,2,\\dots,8}$ and $k=5$. The first model will be the simple linear case: $y=\\beta_0+\\beta_1 x+\\varepsilon$.\n",
    "\n",
    "There are many packages that implement cross-validation in R. We will use a few of these in later modules, but just so you can see what is happening under the hood this is a direct implementation."
   ]
  },
  {
   "cell_type": "code",
   "execution_count": 19,
   "metadata": {},
   "outputs": [
    {
     "name": "stdout",
     "output_type": "stream",
     "text": [
      "MSE evaluated on each test fold: 2.479901 2.644414 2.340579 2.467246 2.585332"
     ]
    }
   ],
   "source": [
    "CV_linear = function(train_test, n_folds, p=1){\n",
    "    N = dim(train_test)[1] # Number of observations\n",
    "    \n",
    "    MSE = array(,c(n_folds)) #MSE evaluated on the test data\n",
    "    yhat = array(,c(N, n_folds))\n",
    "\n",
    "    for (i in 1:n_folds){                                  \n",
    "        # This block just assigns train/test to each fold\n",
    "\n",
    "        test_mask = mod(1:n_folds - 1, n_folds) + 1 ==i\n",
    "        \n",
    "        # Once we have our train/test folds we want to estimate \n",
    "        # the model on the training set and predict on the test\n",
    "        fit = fit_poly(train_test[!test_mask,], p)\n",
    "        yhat[,i] = predict(fit, newdata=train_test[test_mask,]) \n",
    "                                                                             \n",
    "        MSE[i] = mean((train_test[test_mask,\"y\"]-yhat[,i])^2)            \n",
    "    }\n",
    "    return(list(MSE, yhat))\n",
    "}\n",
    "num_folds = 5       \n",
    "ret = CV_linear(train_test, num_folds)                           \n",
    "MSE = ret[[1]]\n",
    "yhat = ret[[2]]\n",
    "\n",
    "cat('MSE evaluated on each test fold:', MSE)"
   ]
  },
  {
   "cell_type": "markdown",
   "metadata": {},
   "source": [
    "**Cross-Validation Results**\n",
    "\n",
    "For each fold we have a value of the \"out-of-sample\" MSE. To get a general idea of the out-of-sample performance of our model we can take the mean of these values.\n"
   ]
  },
  {
   "cell_type": "code",
   "execution_count": 6,
   "metadata": {},
   "outputs": [
    {
     "data": {
      "text/html": [
       "2.50349441556589"
      ],
      "text/latex": [
       "2.50349441556589"
      ],
      "text/markdown": [
       "2.50349441556589"
      ],
      "text/plain": [
       "[1] 2.503494"
      ]
     },
     "metadata": {},
     "output_type": "display_data"
    }
   ],
   "source": [
    "mean(MSE)"
   ]
  },
  {
   "cell_type": "markdown",
   "metadata": {},
   "source": [
    "### Visualizing the Splits\n",
    "\n",
    "We can visualize what we've done by looking at a colored scatter plot. Remember, for each fold we are fitting the model on a subsample of the data and evaluating it on the rest! The blue dots are the observations we used as training data in that particular iteration, the red dots refer to the test observations. The black line is the fitted line based on the test data.\n",
    "**Note: The line is straight as we are fitting the simple linear model**"
   ]
  },
  {
   "cell_type": "code",
   "execution_count": 18,
   "metadata": {},
   "outputs": [
    {
     "data": {
      "image/png": "[encoded data removed]",
      "text/plain": [
       "plot without title"
      ]
     },
     "metadata": {
      "image/png": {
       "height": 420,
       "width": 420
      }
     },
     "output_type": "display_data"
    }
   ],
   "source": [
    "plts = list()\n",
    "for (i in 1:num_folds){\n",
    "    \n",
    "    test_mask = as.logical(rep(sel[i,], size))\n",
    "    visual = cbind(train_test, data.frame(train=!test_mask))\n",
    "    \n",
    "    pred = data.frame(ytest=yhat[,i], xtest=test[test_mask, \"y\"])\n",
    "\n",
    "    plts[[i]] = ggplot(3, aes(x = x, y = y)) +\n",
    "           geom_point(aes(color = factor(train)), alpha=.3, size=1) +\n",
    "           geom_line(data=pred, aes(x=xtest, y=ytest)) + \n",
    "           theme(legend.title=element_blank())\n",
    "}\n",
    "\n",
    "grid.arrange(grobs=plts,ncol=2)"
   ]
  },
  {
   "cell_type": "markdown",
   "metadata": {},
   "source": [
    "### Fitting all 8 Models\n",
    "\n",
    "Now that we've seen how this works for one model choice, let's go ahead and estimate the remaining models. Again for illustration we wrote out a function that will do cross-validation in the linear model.\n"
   ]
  },
  {
   "cell_type": "code",
   "execution_count": 8,
   "metadata": {},
   "outputs": [],
   "source": [
    "# Wrapping our previous code into a function\n",
    "fit_models = function(train_test,n_folds, max_p){\n",
    "    mse = array(,c(max_p,n_folds))\n",
    "    for (p in 1:max_p){\n",
    "        mse[p,] = CV_linear(train_test, n_folds, p)[1]\n",
    "    }\n",
    "    return(mse)\n",
    "}\n",
    "\n",
    "mse = fit_models(train_test,num_folds, max_p)"
   ]
  },
  {
   "cell_type": "markdown",
   "metadata": {},
   "source": [
    "**Cross-Validation Results -- All 8 Models**\n",
    "\n",
    "Now that we have performed 5-fold cross validation on all $8$ of our models! Let's see which one performed best (in terms of average \"out-of-sample\" MSE)"
   ]
  },
  {
   "cell_type": "code",
   "execution_count": 10,
   "metadata": {},
   "outputs": [
    {
     "data": {
      "text/html": [
       "<table>\n",
       "<thead><tr><th></th><th scope=col>1</th><th scope=col>2</th><th scope=col>3</th><th scope=col>4</th><th scope=col>5</th></tr></thead>\n",
       "<tbody>\n",
       "\t<tr><th scope=row>model1</th><td>2.4799013</td><td>2.6444139</td><td> 2.340579</td><td>2.4672455</td><td>2.5853321</td></tr>\n",
       "\t<tr><th scope=row>model2</th><td>1.8176123</td><td>1.7026965</td><td> 1.460791</td><td>1.7009678</td><td>1.9134005</td></tr>\n",
       "\t<tr><th scope=row>model3</th><td>1.2743410</td><td>1.2915052</td><td> 1.966354</td><td>1.1822887</td><td>1.3996514</td></tr>\n",
       "\t<tr><th scope=row>model4</th><td>0.7710116</td><td>0.8442342</td><td> 1.023111</td><td>0.7910482</td><td>0.8094308</td></tr>\n",
       "\t<tr><th scope=row>model5</th><td>0.7674733</td><td>0.8405352</td><td> 2.858941</td><td>0.7927283</td><td>0.8057537</td></tr>\n",
       "\t<tr><th scope=row>model6</th><td>0.4640511</td><td>0.4407953</td><td> 3.591542</td><td>0.4074398</td><td>0.4532309</td></tr>\n",
       "\t<tr><th scope=row>model7</th><td>0.4752736</td><td>0.3973252</td><td> 4.015236</td><td>0.4089919</td><td>0.4004693</td></tr>\n",
       "\t<tr><th scope=row>model8</th><td>0.2943553</td><td>0.2825031</td><td>29.520720</td><td>0.2509071</td><td>0.2987708</td></tr>\n",
       "</tbody>\n",
       "</table>\n"
      ],
      "text/latex": [
       "\\begin{tabular}{r|lllll}\n",
       "  & 1 & 2 & 3 & 4 & 5\\\\\n",
       "\\hline\n",
       "\tmodel1 & 2.4799013 & 2.6444139 &  2.340579 & 2.4672455 & 2.5853321\\\\\n",
       "\tmodel2 & 1.8176123 & 1.7026965 &  1.460791 & 1.7009678 & 1.9134005\\\\\n",
       "\tmodel3 & 1.2743410 & 1.2915052 &  1.966354 & 1.1822887 & 1.3996514\\\\\n",
       "\tmodel4 & 0.7710116 & 0.8442342 &  1.023111 & 0.7910482 & 0.8094308\\\\\n",
       "\tmodel5 & 0.7674733 & 0.8405352 &  2.858941 & 0.7927283 & 0.8057537\\\\\n",
       "\tmodel6 & 0.4640511 & 0.4407953 &  3.591542 & 0.4074398 & 0.4532309\\\\\n",
       "\tmodel7 & 0.4752736 & 0.3973252 &  4.015236 & 0.4089919 & 0.4004693\\\\\n",
       "\tmodel8 & 0.2943553 & 0.2825031 & 29.520720 & 0.2509071 & 0.2987708\\\\\n",
       "\\end{tabular}\n"
      ],
      "text/markdown": [
       "\n",
       "| <!--/--> | 1 | 2 | 3 | 4 | 5 |\n",
       "|---|---|---|---|---|---|\n",
       "| model1 | 2.4799013 | 2.6444139 |  2.340579 | 2.4672455 | 2.5853321 |\n",
       "| model2 | 1.8176123 | 1.7026965 |  1.460791 | 1.7009678 | 1.9134005 |\n",
       "| model3 | 1.2743410 | 1.2915052 |  1.966354 | 1.1822887 | 1.3996514 |\n",
       "| model4 | 0.7710116 | 0.8442342 |  1.023111 | 0.7910482 | 0.8094308 |\n",
       "| model5 | 0.7674733 | 0.8405352 |  2.858941 | 0.7927283 | 0.8057537 |\n",
       "| model6 | 0.4640511 | 0.4407953 |  3.591542 | 0.4074398 | 0.4532309 |\n",
       "| model7 | 0.4752736 | 0.3973252 |  4.015236 | 0.4089919 | 0.4004693 |\n",
       "| model8 | 0.2943553 | 0.2825031 | 29.520720 | 0.2509071 | 0.2987708 |\n",
       "\n"
      ],
      "text/plain": [
       "       1         2         3         4         5        \n",
       "model1 2.4799013 2.6444139  2.340579 2.4672455 2.5853321\n",
       "model2 1.8176123 1.7026965  1.460791 1.7009678 1.9134005\n",
       "model3 1.2743410 1.2915052  1.966354 1.1822887 1.3996514\n",
       "model4 0.7710116 0.8442342  1.023111 0.7910482 0.8094308\n",
       "model5 0.7674733 0.8405352  2.858941 0.7927283 0.8057537\n",
       "model6 0.4640511 0.4407953  3.591542 0.4074398 0.4532309\n",
       "model7 0.4752736 0.3973252  4.015236 0.4089919 0.4004693\n",
       "model8 0.2943553 0.2825031 29.520720 0.2509071 0.2987708"
      ]
     },
     "metadata": {},
     "output_type": "display_data"
    },
    {
     "name": "stdout",
     "output_type": "stream",
     "text": [
      "5-fold CV picks: Model 4"
     ]
    }
   ],
   "source": [
    "CV_mse = data.frame(mse,row.names=paste0(\"model\", 1:max_p))\n",
    "colnames(CV_mse) = seq(1,num_folds)\n",
    "CV_mse\n",
    "\n",
    "cat('5-fold CV picks: Model', which.min(rowMeans(CV_mse))[1])\n",
    "\n",
    "## Display a table for MSE and print the minimum"
   ]
  },
  {
   "cell_type": "markdown",
   "metadata": {},
   "source": [
    "**Does Cross-Validation Work?**\n",
    "\n",
    "Well that's pretty cool. Cross validation picked the right model! Although we knew what the correct model was, we didn't use that information anywhere in the estimation. The key thing was ensuring that the correct model was available for cross-validation to select. \n",
    "\n",
    "Will this always happen? Unfortunately, cross-validation isn't perfect, but as long as the proceedure is done properly, we will choose the right model most of the time!\n",
    "\n",
    "**Validation Performance**\n",
    "\n",
    "Now that we've chosen the model we can go ahead and estimate our model with the validation data and see how we do."
   ]
  },
  {
   "cell_type": "code",
   "execution_count": 11,
   "metadata": {},
   "outputs": [
    {
     "data": {
      "image/png": "[encoded data removed]",
      "text/plain": [
       "plot without title"
      ]
     },
     "metadata": {},
     "output_type": "display_data"
    }
   ],
   "source": [
    "OLS = fit_poly(train_test, 4)\n",
    "validation['y_hat'] = predict(OLS, newdata=validation)\n",
    "validation['ybar'] = degree4_ybar(validation['x'])\n",
    "\n",
    "ggplot(validation, aes(x=X, y=y)) +\n",
    "           geom_point(color='blue', alpha=.3, size=1) +\n",
    "           geom_line(data=pred, aes(x=X, y=y_hat, color=\"Predicted\")) +\n",
    "           geom_line(data=true, aes(x=X, y=ybar, color='True Signal')) +\n",
    "           theme(legend.title=element_blank())\n",
    "\n",
    "# Plot the validation data with the prediction and the truth together"
   ]
  },
  {
   "cell_type": "markdown",
   "metadata": {},
   "source": [
    "# Exercise: Module 1\n",
    "\n",
    "Using the functions defined in the module how would you re-run the analysis using 10 folds?\n",
    "\n",
    "Does the proceedure still pick the right model?\n"
   ]
  },
  {
   "cell_type": "code",
   "execution_count": 12,
   "metadata": {},
   "outputs": [
    {
     "data": {
      "text/html": [
       "<table>\n",
       "<thead><tr><th></th><th scope=col>1</th><th scope=col>2</th><th scope=col>3</th><th scope=col>4</th><th scope=col>5</th><th scope=col>6</th><th scope=col>7</th><th scope=col>8</th><th scope=col>9</th><th scope=col>10</th></tr></thead>\n",
       "<tbody>\n",
       "\t<tr><th scope=row>model1</th><td>2.1595162</td><td>2.8208041</td><td> 2.267656</td><td>2.7061820</td><td>2.4468547</td><td>2.8006035</td><td>2.4852569</td><td>2.4130347</td><td>2.2321535</td><td>2.7242217</td></tr>\n",
       "\t<tr><th scope=row>model2</th><td>1.2547851</td><td>1.5962353</td><td> 1.320887</td><td>2.1028622</td><td>1.7965957</td><td>2.4007222</td><td>1.8147466</td><td>1.5908666</td><td>1.3055844</td><td>2.0305176</td></tr>\n",
       "\t<tr><th scope=row>model3</th><td>1.0270087</td><td>1.3827768</td><td> 2.409548</td><td>1.2499353</td><td>1.2082340</td><td>1.5004590</td><td>1.2072399</td><td>1.2491736</td><td>1.1037278</td><td>1.5895715</td></tr>\n",
       "\t<tr><th scope=row>model4</th><td>0.6361482</td><td>0.7678491</td><td> 1.330632</td><td>0.9809029</td><td>0.7687012</td><td>0.8855462</td><td>0.9581610</td><td>0.6767009</td><td>0.6305173</td><td>0.8499244</td></tr>\n",
       "\t<tr><th scope=row>model5</th><td>0.6452019</td><td>0.7674280</td><td> 4.000035</td><td>0.9937717</td><td>0.7596019</td><td>0.8753063</td><td>0.9524136</td><td>0.6813816</td><td>0.6351884</td><td>0.8488395</td></tr>\n",
       "\t<tr><th scope=row>model6</th><td>0.3989164</td><td>0.4864401</td><td> 5.978880</td><td>0.4504427</td><td>0.4080723</td><td>0.5257562</td><td>0.4030578</td><td>0.4416376</td><td>0.3690863</td><td>0.4938190</td></tr>\n",
       "\t<tr><th scope=row>model7</th><td>0.3579048</td><td>0.4067289</td><td> 6.502434</td><td>0.5176139</td><td>0.3623554</td><td>0.5908642</td><td>0.4011529</td><td>0.3852204</td><td>0.3267555</td><td>0.4282110</td></tr>\n",
       "\t<tr><th scope=row>model8</th><td>0.2902544</td><td>0.2976610</td><td>57.787667</td><td>0.2573139</td><td>0.2638084</td><td>0.2943745</td><td>0.2749451</td><td>0.3154191</td><td>0.2407259</td><td>0.3403850</td></tr>\n",
       "</tbody>\n",
       "</table>\n"
      ],
      "text/latex": [
       "\\begin{tabular}{r|llllllllll}\n",
       "  & 1 & 2 & 3 & 4 & 5 & 6 & 7 & 8 & 9 & 10\\\\\n",
       "\\hline\n",
       "\tmodel1 & 2.1595162 & 2.8208041 &  2.267656 & 2.7061820 & 2.4468547 & 2.8006035 & 2.4852569 & 2.4130347 & 2.2321535 & 2.7242217\\\\\n",
       "\tmodel2 & 1.2547851 & 1.5962353 &  1.320887 & 2.1028622 & 1.7965957 & 2.4007222 & 1.8147466 & 1.5908666 & 1.3055844 & 2.0305176\\\\\n",
       "\tmodel3 & 1.0270087 & 1.3827768 &  2.409548 & 1.2499353 & 1.2082340 & 1.5004590 & 1.2072399 & 1.2491736 & 1.1037278 & 1.5895715\\\\\n",
       "\tmodel4 & 0.6361482 & 0.7678491 &  1.330632 & 0.9809029 & 0.7687012 & 0.8855462 & 0.9581610 & 0.6767009 & 0.6305173 & 0.8499244\\\\\n",
       "\tmodel5 & 0.6452019 & 0.7674280 &  4.000035 & 0.9937717 & 0.7596019 & 0.8753063 & 0.9524136 & 0.6813816 & 0.6351884 & 0.8488395\\\\\n",
       "\tmodel6 & 0.3989164 & 0.4864401 &  5.978880 & 0.4504427 & 0.4080723 & 0.5257562 & 0.4030578 & 0.4416376 & 0.3690863 & 0.4938190\\\\\n",
       "\tmodel7 & 0.3579048 & 0.4067289 &  6.502434 & 0.5176139 & 0.3623554 & 0.5908642 & 0.4011529 & 0.3852204 & 0.3267555 & 0.4282110\\\\\n",
       "\tmodel8 & 0.2902544 & 0.2976610 & 57.787667 & 0.2573139 & 0.2638084 & 0.2943745 & 0.2749451 & 0.3154191 & 0.2407259 & 0.3403850\\\\\n",
       "\\end{tabular}\n"
      ],
      "text/markdown": [
       "\n",
       "| <!--/--> | 1 | 2 | 3 | 4 | 5 | 6 | 7 | 8 | 9 | 10 |\n",
       "|---|---|---|---|---|---|---|---|---|---|---|\n",
       "| model1 | 2.1595162 | 2.8208041 |  2.267656 | 2.7061820 | 2.4468547 | 2.8006035 | 2.4852569 | 2.4130347 | 2.2321535 | 2.7242217 |\n",
       "| model2 | 1.2547851 | 1.5962353 |  1.320887 | 2.1028622 | 1.7965957 | 2.4007222 | 1.8147466 | 1.5908666 | 1.3055844 | 2.0305176 |\n",
       "| model3 | 1.0270087 | 1.3827768 |  2.409548 | 1.2499353 | 1.2082340 | 1.5004590 | 1.2072399 | 1.2491736 | 1.1037278 | 1.5895715 |\n",
       "| model4 | 0.6361482 | 0.7678491 |  1.330632 | 0.9809029 | 0.7687012 | 0.8855462 | 0.9581610 | 0.6767009 | 0.6305173 | 0.8499244 |\n",
       "| model5 | 0.6452019 | 0.7674280 |  4.000035 | 0.9937717 | 0.7596019 | 0.8753063 | 0.9524136 | 0.6813816 | 0.6351884 | 0.8488395 |\n",
       "| model6 | 0.3989164 | 0.4864401 |  5.978880 | 0.4504427 | 0.4080723 | 0.5257562 | 0.4030578 | 0.4416376 | 0.3690863 | 0.4938190 |\n",
       "| model7 | 0.3579048 | 0.4067289 |  6.502434 | 0.5176139 | 0.3623554 | 0.5908642 | 0.4011529 | 0.3852204 | 0.3267555 | 0.4282110 |\n",
       "| model8 | 0.2902544 | 0.2976610 | 57.787667 | 0.2573139 | 0.2638084 | 0.2943745 | 0.2749451 | 0.3154191 | 0.2407259 | 0.3403850 |\n",
       "\n"
      ],
      "text/plain": [
       "       1         2         3         4         5         6         7        \n",
       "model1 2.1595162 2.8208041  2.267656 2.7061820 2.4468547 2.8006035 2.4852569\n",
       "model2 1.2547851 1.5962353  1.320887 2.1028622 1.7965957 2.4007222 1.8147466\n",
       "model3 1.0270087 1.3827768  2.409548 1.2499353 1.2082340 1.5004590 1.2072399\n",
       "model4 0.6361482 0.7678491  1.330632 0.9809029 0.7687012 0.8855462 0.9581610\n",
       "model5 0.6452019 0.7674280  4.000035 0.9937717 0.7596019 0.8753063 0.9524136\n",
       "model6 0.3989164 0.4864401  5.978880 0.4504427 0.4080723 0.5257562 0.4030578\n",
       "model7 0.3579048 0.4067289  6.502434 0.5176139 0.3623554 0.5908642 0.4011529\n",
       "model8 0.2902544 0.2976610 57.787667 0.2573139 0.2638084 0.2943745 0.2749451\n",
       "       8         9         10       \n",
       "model1 2.4130347 2.2321535 2.7242217\n",
       "model2 1.5908666 1.3055844 2.0305176\n",
       "model3 1.2491736 1.1037278 1.5895715\n",
       "model4 0.6767009 0.6305173 0.8499244\n",
       "model5 0.6813816 0.6351884 0.8488395\n",
       "model6 0.4416376 0.3690863 0.4938190\n",
       "model7 0.3852204 0.3267555 0.4282110\n",
       "model8 0.3154191 0.2407259 0.3403850"
      ]
     },
     "metadata": {},
     "output_type": "display_data"
    },
    {
     "name": "stdout",
     "output_type": "stream",
     "text": [
      "10-fold CV picks: Model 4"
     ]
    }
   ],
   "source": [
    "num_folds_ex = 10\n",
    "mse = fit_models(train_test,num_folds_ex)\n",
    "\n",
    "\n",
    "CV_mse = data.frame(mse,row.names=model.names)\n",
    "colnames(CV_mse) = seq(1,num_folds_ex)\n",
    "CV_mse\n",
    "\n",
    "cat('10-fold CV picks: Model', which.min(rowMeans(CV_mse))[1])"
   ]
  }
 ],
 "metadata": {
  "kernelspec": {
   "display_name": "R",
   "language": "R",
   "name": "ir"
  },
  "language_info": {
   "codemirror_mode": "r",
   "file_extension": ".r",
   "mimetype": "text/x-r-source",
   "name": "R",
   "pygments_lexer": "r",
   "version": "4.0.4"
  },
  "toc-showtags": false
 },
 "nbformat": 4,
 "nbformat_minor": 4
}
