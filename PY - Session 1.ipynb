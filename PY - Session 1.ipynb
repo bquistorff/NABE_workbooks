{
 "cells": [
  {
   "cell_type": "markdown",
   "id": "40fe200e",
   "metadata": {},
   "source": [
    "Overview"
   ]
  },
  {
   "cell_type": "markdown",
   "id": "42d25f2b",
   "metadata": {},
   "source": [
    "# Data manipulation"
   ]
  },
  {
   "cell_type": "markdown",
   "id": "d7d0f613",
   "metadata": {},
   "source": [
    "Python's native types include strings, numbers, lists, dictionaries (unordered set of key to value mappings), but not standard statistical data type such as vectors, matrices, or data frames. Lists are treated differently than vectors (e.g., adding two lists concatenates them rather than doing element-wise addition)."
   ]
  },
  {
   "cell_type": "code",
   "execution_count": 4,
   "id": "1c1128fc",
   "metadata": {},
   "outputs": [
    {
     "data": {
      "text/plain": [
       "[1, 2, 3, 4, 5, 6]"
      ]
     },
     "execution_count": 4,
     "metadata": {},
     "output_type": "execute_result"
    }
   ],
   "source": [
    "[1,2,3] + [4,5,6]"
   ]
  },
  {
   "cell_type": "markdown",
   "id": "63179ed3",
   "metadata": {},
   "source": [
    "## Numpy arrays"
   ]
  },
  {
   "cell_type": "markdown",
   "id": "39fbc357",
   "metadata": {},
   "source": [
    "The foundation of numeric data types in Python are `numpy` arrays. These are n-dimensional arrays of a consistent numeric type. They behave like one would expect"
   ]
  },
  {
   "cell_type": "code",
   "execution_count": 5,
   "id": "3713d757",
   "metadata": {},
   "outputs": [
    {
     "name": "stdout",
     "output_type": "stream",
     "text": [
      "a: [1 2 3]\n",
      "(3,)\n",
      "[2 4 6]\n",
      "[1 4 9]\n",
      "<class 'numpy.ndarray'>\n",
      "[[1 2 3]\n",
      " [4 5 6]]\n",
      "(2, 3)\n",
      "[[ 1  4  9]\n",
      " [16 25 36]]\n",
      "[[14 32]\n",
      " [32 77]]\n",
      "[[False False  True]\n",
      " [ True  True  True]]\n",
      "[[False False  True]\n",
      " [ True False False]]\n",
      "[[ True False False]\n",
      " [False False  True]]\n"
     ]
    }
   ],
   "source": [
    "import numpy as np\n",
    "\n",
    "a = np.array([1, 2, 3])   # Create a rank 1 array\n",
    "print(\"a:\", a)\n",
    "print(a.shape)            # Prints \"(3,)\"\n",
    "print(a + a) #element-wise addition\n",
    "print(a*a) #element-wise multication\n",
    "print(type(a))            # Prints \"<class 'numpy.ndarray'>\"\n",
    "\n",
    "b = np.array([[1,2,3],[4,5,6]])    # Create a rank 2 array; [first row, second row]\n",
    "print(b) #rows displayed descending\n",
    "print(b.shape)                     # Prints \"(2, 3)\"\n",
    "print(b*b) #element-wise multiplication!\n",
    "print(b@b.T) #matrix mulitiplication! (using transpose operator)\n",
    "print(b>2)\n",
    "print(np.logical_and(b>2, b<5)) # normal | and & are bitwise rather than logical so use these\n",
    "print(np.logical_or(b<2, b>5))"
   ]
  },
  {
   "cell_type": "markdown",
   "id": "d4df5abf",
   "metadata": {},
   "source": [
    "Python uses 0-based indexing so the first element is indexed by 0 (where in R it's 1-based). A list of integers can be used to index a vector (for higher-order arrays, see `np.ix_()`)"
   ]
  },
  {
   "cell_type": "code",
   "execution_count": 6,
   "id": "72bc9768",
   "metadata": {},
   "outputs": [
    {
     "name": "stdout",
     "output_type": "stream",
     "text": [
      "1 2 3\n",
      "[5 2 3]\n",
      "[5 3]\n",
      "1 2 4\n"
     ]
    }
   ],
   "source": [
    "print(a[0], a[1], a[2])   # Prints \"1 2 3\"\n",
    "a[0] = 5                  # Change an element of the array\n",
    "print(a)                  # Prints \"[5, 2, 3]\"\n",
    "print(a[[0,2]]) #\n",
    "\n",
    "print(b[0, 0], b[0, 1], b[1, 0])   # Prints \"1 2 4\""
   ]
  },
  {
   "cell_type": "markdown",
   "id": "485cf106",
   "metadata": {},
   "source": [
    "One can also use a logical array of the right length to filter elements"
   ]
  },
  {
   "cell_type": "code",
   "execution_count": 7,
   "id": "371ab4c1",
   "metadata": {},
   "outputs": [
    {
     "data": {
      "text/plain": [
       "array([[1, 2, 3],\n",
       "       [4, 5, 6]])"
      ]
     },
     "execution_count": 7,
     "metadata": {},
     "output_type": "execute_result"
    }
   ],
   "source": [
    "c = np.array([[1,2,3],[4,5,6],[7,8,9]])\n",
    "c[np.array([True, True, False]),]"
   ]
  },
  {
   "cell_type": "markdown",
   "id": "8d8e4583",
   "metadata": {},
   "source": [
    "To select a contiguous range, use the 'slice' notation `start`:`stop`, which selects items `start` and up through, but not include `stop`."
   ]
  },
  {
   "cell_type": "code",
   "execution_count": 8,
   "id": "8dcfde57",
   "metadata": {},
   "outputs": [
    {
     "name": "stdout",
     "output_type": "stream",
     "text": [
      "[1 2 3]\n",
      "[1 2 3 4]\n",
      "[0 1 2 3]\n"
     ]
    }
   ],
   "source": [
    "a2 = np.array([0,1,2,3,4])\n",
    "print(a2[1:4])   # items indexed 1 through 3\n",
    "print(a2[1:])\n",
    "print(a2[:4]) "
   ]
  },
  {
   "cell_type": "markdown",
   "id": "953b11fb",
   "metadata": {},
   "source": [
    "One thing to note is that slicing (as opposed to the other methods, creates views which can modify the original)"
   ]
  },
  {
   "cell_type": "code",
   "execution_count": 9,
   "id": "0025486e",
   "metadata": {},
   "outputs": [
    {
     "name": "stdout",
     "output_type": "stream",
     "text": [
      "[5 2 3]\n",
      "[2 3]\n",
      "[5 2 3]\n",
      "[2 3]\n",
      "[5 2 3]\n",
      "[ 5  2 12]\n"
     ]
    }
   ],
   "source": [
    "print(a)\n",
    "e_int = a[[1,2]]\n",
    "print(e_int)\n",
    "e_int[1] = 10\n",
    "print(a)\n",
    "e_bool = a[np.array([False, True, True])]\n",
    "print(e_bool)\n",
    "e_bool[1] = 11\n",
    "print(a)\n",
    "e_slice = a[1:3]\n",
    "e_slice[1] = 12\n",
    "print(a)"
   ]
  },
  {
   "cell_type": "markdown",
   "id": "bde63818",
   "metadata": {},
   "source": [
    "In terms of knowing when things can be modified by methods, we need to know that objects can be `mutable` (e.g., array) or immutable (e.g., integer) and that Python uses a system called \"pass by assignment\" or \"pass by object reference\" (variable names are references \"bound\" to an actual object/value). If you pass a mutable object into a method, the method gets a reference to that same object and you can mutate it to your heart's delight, but if you rebind the reference in the method, the outer scope will know nothing about it, and after you're done, the outer reference will still point at the original object. Immutable objects can't be changed."
   ]
  },
  {
   "cell_type": "code",
   "execution_count": 11,
   "id": "d545d900",
   "metadata": {},
   "outputs": [
    {
     "name": "stdout",
     "output_type": "stream",
     "text": [
      "[1, array([1, 2, 3])]\n",
      "[1, array([10,  2,  3])]\n"
     ]
    }
   ],
   "source": [
    "def mod_args(scalar, arr):\n",
    "    scalar = 10 \n",
    "    arr[0] = 10 #changes outer scope\n",
    "    arr = np.array([11,12,13]) #doesn't change outer-scope\n",
    "\n",
    "sc = 1\n",
    "a = np.array([1,2,3])\n",
    "print([sc, a])\n",
    "mod_args(sc, a)\n",
    "print([sc, a])"
   ]
  },
  {
   "cell_type": "markdown",
   "id": "803e0037",
   "metadata": {},
   "source": [
    "Numpy has most the basic matrix function (e.g., random number generator).\n",
    "\n",
    "See [here](https://numpy.org/doc/stable/user/numpy-for-matlab-users.html) for a detailed comparison with Matlab"
   ]
  },
  {
   "cell_type": "markdown",
   "id": "a0dec62f",
   "metadata": {},
   "source": [
    "## Figuring things out"
   ]
  },
  {
   "cell_type": "code",
   "execution_count": null,
   "id": "0eccf377",
   "metadata": {},
   "outputs": [],
   "source": [
    "help(np.zeros)"
   ]
  },
  {
   "cell_type": "markdown",
   "id": "9044175c-797c-43a8-8dbd-66cf4a8e26d6",
   "metadata": {},
   "source": [
    "Ex: How would you add a constant to every element in an array? Define a new array and try something out!"
   ]
  },
  {
   "cell_type": "code",
   "execution_count": null,
   "id": "bddfbcd8-3cc4-4ee8-826c-192c2bcba23e",
   "metadata": {},
   "outputs": [],
   "source": [
    "# Try here!"
   ]
  },
  {
   "cell_type": "markdown",
   "id": "129590da",
   "metadata": {},
   "source": [
    "## Pandas DataFrames"
   ]
  },
  {
   "cell_type": "markdown",
   "id": "04eba432",
   "metadata": {},
   "source": [
    "Pandas allows putting indexes on data"
   ]
  },
  {
   "cell_type": "code",
   "execution_count": 12,
   "id": "e2b2f454",
   "metadata": {},
   "outputs": [
    {
     "name": "stdout",
     "output_type": "stream",
     "text": [
      "USA       1\n",
      "Canada    2\n",
      "Mexico    3\n",
      "dtype: int64\n"
     ]
    }
   ],
   "source": [
    "import pandas as pd\n",
    "s = pd.Series([1,2,3], index=[\"USA\", \"Canada\", \"Mexico\"]) #if you don't supply one, it'll be 0-based integer sequence\n",
    "print(s)"
   ]
  },
  {
   "cell_type": "markdown",
   "id": "e80e0ea4",
   "metadata": {},
   "source": [
    "DataFrames allow for (a) \"indexes\" across the columns (e.g., column names) and rows (e.g., years), and (b) heterogeneous data in one structure. DataFrames are built on top of numpy arrays."
   ]
  },
  {
   "cell_type": "code",
   "execution_count": 13,
   "id": "5336bfb8",
   "metadata": {},
   "outputs": [
    {
     "name": "stdout",
     "output_type": "stream",
     "text": [
      "    a  b    c\n",
      "10  0  a  0.0\n",
      "11  1  b  1.0\n",
      "12  2  c  2.0\n",
      "Index(['a', 'b', 'c'], dtype='object')\n",
      "Int64Index([10, 11, 12], dtype='int64')\n",
      "a      int64\n",
      "b     object\n",
      "c    float64\n",
      "dtype: object\n"
     ]
    }
   ],
   "source": [
    "df = pd.DataFrame({'a':[0,1,2], 'b':[\"a\",\"b\",\"c\"], 'c':[0., 1., 2.]}, index=[10,11,12]) #build from dictionary of column names -> list of values\n",
    "print(df)\n",
    "print(df.columns)\n",
    "print(df.index)\n",
    "print(df.dtypes)"
   ]
  },
  {
   "cell_type": "markdown",
   "id": "2a127e46",
   "metadata": {},
   "source": [
    "[val] can be used to select columsn, and [:] can be used to select rows. Given there are now index labels as well as integer positions, there are additional indexers `.loc` for label-based (or boolean array) and `.iloc` for integer-based (or boolean)."
   ]
  },
  {
   "cell_type": "code",
   "execution_count": 14,
   "id": "13512bb2",
   "metadata": {},
   "outputs": [
    {
     "name": "stdout",
     "output_type": "stream",
     "text": [
      "10    0\n",
      "11    1\n",
      "12    2\n",
      "Name: a, dtype: int64\n",
      "    a  b    c\n",
      "10  0  a  0.0\n",
      "    b    c\n",
      "11  b  1.0\n",
      "12  c  2.0\n",
      "    b    c\n",
      "10  a  0.0\n",
      "11  b  1.0\n"
     ]
    }
   ],
   "source": [
    "print(df[\"a\"]) # returns a pd.Series\n",
    "print(df[0:1])\n",
    "print(df.iloc[1:3, 1:3])\n",
    "print(df.loc[[10,11], [\"b\", \"c\"]])"
   ]
  },
  {
   "cell_type": "markdown",
   "id": "865c39c4",
   "metadata": {},
   "source": [
    "Advanced concepts:\n",
    "- Indexes (either row or column) can be multi-level, so for example, rows could be indexed by (time, county name)\n",
    "- Pandas includes some data types not included in numpy: explicit string (why numpy uses the generic fallback 'object'), categoricals, and nullable"
   ]
  },
  {
   "cell_type": "markdown",
   "id": "bf91504c",
   "metadata": {},
   "source": [
    "Comparison to other suites:\n",
    "- [R](https://pandas.pydata.org/docs/getting_started/comparison/comparison_with_r.html)\n",
    "- [Stata](https://pandas.pydata.org/docs/getting_started/comparison/comparison_with_stata.html)"
   ]
  },
  {
   "cell_type": "markdown",
   "id": "6ae2f4e5",
   "metadata": {},
   "source": [
    "Here are some ways to figure things out\n",
    "1. `help`\n",
    "2. Most packages have web pages with good hyperlinked help\n",
    "3. Just try things out!"
   ]
  },
  {
   "cell_type": "markdown",
   "id": "39d3335a-b6c4-45e9-9ca8-591e413af0cb",
   "metadata": {},
   "source": [
    "# Learning from Data"
   ]
  },
  {
   "cell_type": "code",
   "execution_count": 59,
   "id": "1a28ed4a-4958-433e-954c-1e84e49175fa",
   "metadata": {},
   "outputs": [
    {
     "data": {
      "text/html": [
       "<div>\n",
       "<style scoped>\n",
       "    .dataframe tbody tr th:only-of-type {\n",
       "        vertical-align: middle;\n",
       "    }\n",
       "\n",
       "    .dataframe tbody tr th {\n",
       "        vertical-align: top;\n",
       "    }\n",
       "\n",
       "    .dataframe thead th {\n",
       "        text-align: right;\n",
       "    }\n",
       "</style>\n",
       "<table border=\"1\" class=\"dataframe\">\n",
       "  <thead>\n",
       "    <tr style=\"text-align: right;\">\n",
       "      <th></th>\n",
       "      <th>y</th>\n",
       "      <th>x</th>\n",
       "    </tr>\n",
       "  </thead>\n",
       "  <tbody>\n",
       "    <tr>\n",
       "      <th>0</th>\n",
       "      <td>-0.161169</td>\n",
       "      <td>0.030802</td>\n",
       "    </tr>\n",
       "    <tr>\n",
       "      <th>1</th>\n",
       "      <td>1.096031</td>\n",
       "      <td>-0.381127</td>\n",
       "    </tr>\n",
       "    <tr>\n",
       "      <th>2</th>\n",
       "      <td>1.618527</td>\n",
       "      <td>1.229293</td>\n",
       "    </tr>\n",
       "    <tr>\n",
       "      <th>3</th>\n",
       "      <td>-1.643339</td>\n",
       "      <td>-1.542087</td>\n",
       "    </tr>\n",
       "    <tr>\n",
       "      <th>4</th>\n",
       "      <td>-1.204494</td>\n",
       "      <td>-1.378398</td>\n",
       "    </tr>\n",
       "  </tbody>\n",
       "</table>\n",
       "</div>"
      ],
      "text/plain": [
       "          y         x\n",
       "0 -0.161169  0.030802\n",
       "1  1.096031 -0.381127\n",
       "2  1.618527  1.229293\n",
       "3 -1.643339 -1.542087\n",
       "4 -1.204494 -1.378398"
      ]
     },
     "execution_count": 59,
     "metadata": {},
     "output_type": "execute_result"
    }
   ],
   "source": [
    "#Mean outcome function\n",
    "def degree4_ybar(x1):\n",
    "    beta_true = np.array([[.2],[-.01], [.3],[-.005]]) # coefficient vector\n",
    "    alpha_true = 1\n",
    "    #featurize\n",
    "    x2 = np.power(x1, 2) # squared    \n",
    "    x3 = np.power(x1, 3) # cubed     \n",
    "    x4 = np.power(x1,4) # 4th power \n",
    "    X = np.stack([x1,x2,x3,x4], axis=1) # X is the concatenation of 4 column vectors\n",
    "    ybar = alpha_true +  np.squeeze(X@beta_true) #squeeze makes (N,1) -> (N,) #\n",
    "    return(ybar)\n",
    "\n",
    "#Generate random data\n",
    "def degree4_dgp(N):\n",
    "    x1 = np.random.uniform(-2,2, size=N)\n",
    "    ybar = degree4_ybar(x1)\n",
    "    err = np.random.normal(size=N)*1.5\n",
    "    y = ybar + err \n",
    "    # y is generated from a 4th order polynomial with N(0,2.25) errors   \n",
    "    data = pd.DataFrame({'y':y, 'x':x1})           \n",
    "    return(data) #return observed variables\n",
    "\n",
    "N = 1500\n",
    "data = degree4_dgp(N)\n",
    "data.head()"
   ]
  },
  {
   "cell_type": "code",
   "execution_count": 61,
   "id": "162431d4-0c96-4d2f-9e56-ed34203ed7cc",
   "metadata": {},
   "outputs": [],
   "source": [
    "def fit_poly(data, p):\n",
    "    import statsmodels.formula.api as smf\n",
    "    #vander creates the polynomial expansion of x (including constant in p+1)\n",
    "    return(smf.ols(formula='y ~ np.vander(x, p+1, increasing=True) -1', data=data).fit())\n",
    "\n",
    "#We'll do the constant model also\n",
    "num_p = 8+1\n",
    "ps = np.arange(num_p)\n",
    "pop_size = 10000\n",
    "def true_oos_mse(fit_model, dgp, N_new=pop_size):\n",
    "    #For a known DGP we could analytically determine the true oos MSE, but this is simple and more general\n",
    "    data_val = dgp(N_new)\n",
    "    y_hat = fit_model.predict(data_val)\n",
    "    return(np.power(y_hat-data_val[\"y\"], 2).mean())\n",
    "\n",
    "is_mses = np.empty(num_p)\n",
    "oos_mses = np.empty(num_p)\n",
    "for p in ps:\n",
    "    fit = fit_poly(data, p)\n",
    "    y_hat = fit.predict(data)\n",
    "    is_mses[p] = np.power(y_hat - data[\"y\"], 2).mean()\n",
    "    oos_mses[p] = true_oos_mse(fit, degree4_dgp)"
   ]
  },
  {
   "cell_type": "code",
   "execution_count": 84,
   "id": "3b52da35-e995-4c4a-9fdb-026358109897",
   "metadata": {},
   "outputs": [],
   "source": [
    "def bias_var_decomp(data, models, ybar_fn):\n",
    "    S = len(models)\n",
    "    N = data.shape[0]\n",
    "    \n",
    "    yhat = np.empty((N,S))\n",
    "    for s in range(S):\n",
    "        yhat[:,s] = models[s].predict(data)\n",
    "    \n",
    "    yhat_bar = yhat.mean(axis=1)\n",
    "    ybar = ybar_fn(data[\"x\"])\n",
    "    #calc statistics along x\n",
    "    m_bias2 = np.power(yhat_bar - ybar, 2)\n",
    "    m_var = np.power(yhat - np.expand_dims(yhat_bar, 1), 2).mean(axis=1) #Mat - colvec does it for each column\n",
    "    m_mse = np.power(yhat - np.expand_dims(data[\"y\"], 1), 2).mean(axis=1)\n",
    "    # return averages over x\n",
    "    return((m_bias2.mean(), m_var.mean(), m_mse.mean()))\n"
   ]
  },
  {
   "cell_type": "code",
   "execution_count": 86,
   "id": "9d23c4ae-04bf-4945-8c14-4826c7363663",
   "metadata": {},
   "outputs": [],
   "source": [
    "n_sim=10 #1000\n",
    "d_val = degree4_dgp(pop_size)\n",
    "is_mse_sim = np.empty((n_sim, num_p))\n",
    "m_bias = np.empty(num_p)\n",
    "m_var = np.empty(num_p)\n",
    "m_oos_mse = np.empty(num_p)\n",
    "data_sim = [degree4_dgp(N) for s in range(n_sim)]\n",
    "for p in range(num_p):\n",
    "    fits = []\n",
    "    for s in range(n_sim):\n",
    "        d = data_sim[s]\n",
    "        fits.append(fit_poly(d, p))\n",
    "        is_mse_sim[s,p] = np.power(fits[s].predict(d) - d[\"y\"], 2).mean()\n",
    "    m_bias[p], m_var[p], m_oos_mse[p] = bias_var_decomp(d_val, fits, degree4_ybar)\n",
    "\n",
    "is_mse_sim_mean = is_mse_sim.mean(axis=0)"
   ]
  },
  {
   "cell_type": "code",
   "execution_count": 89,
   "id": "016a7129-bf17-4147-965d-51de1aca03c8",
   "metadata": {},
   "outputs": [
    {
     "name": "stdout",
     "output_type": "stream",
     "text": [
      "       bias       var        is       oos\n",
      "0  1.269590  0.001929  3.511080  3.511923\n",
      "1  0.134055  0.001804  2.342615  2.387252\n",
      "2  0.132930  0.003854  2.338709  2.389015\n",
      "3  0.000610  0.004191  2.191281  2.241989\n",
      "4  0.000624  0.004589  2.190889  2.242361\n",
      "5  0.001358  0.005235  2.189623  2.243411\n",
      "6  0.001224  0.007118  2.187635  2.245178\n",
      "7  0.001250  0.007877  2.186873  2.246090\n",
      "8  0.001313  0.009050  2.185646  2.247613\n"
     ]
    },
    {
     "data": {
      "text/plain": [
       "<AxesSubplot:>"
      ]
     },
     "execution_count": 89,
     "metadata": {},
     "output_type": "execute_result"
    },
    {
     "data": {
      "image/png": "[encoded data removed]",
      "text/plain": [
       "<Figure size 432x288 with 1 Axes>"
      ]
     },
     "metadata": {
      "needs_background": "light"
     },
     "output_type": "display_data"
    }
   ],
   "source": [
    "metrics = pd.DataFrame({'bias':m_bias, 'var':m_var, \"is\":is_mse_sim_mean, \"oos\":m_oos_mse}, index=ps)\n",
    "print(metrics)\n",
    "metrics.plot()"
   ]
  },
  {
   "cell_type": "code",
   "execution_count": null,
   "id": "322dbd87-b45f-4196-8b80-93457696eac4",
   "metadata": {},
   "outputs": [],
   "source": [
    "data_split = function(data,split=.1):\n",
    "    N = data.shape[0]\n",
    "    \n",
    "    # Randomly split by shuffling data\n",
    "    data = np.random.shuffle(data)\n",
    "    \n",
    "    c = round(N*split)\n",
    "    test = data[:c,:]\n",
    "    train = data[c:,:]\n",
    "    \n",
    "    return([train,test])\n",
    "\n",
    "\n",
    "train_test, validation  = data_split(data) "
   ]
  },
  {
   "cell_type": "code",
   "execution_count": null,
   "id": "06eccc70-5b13-46df-bc0c-7211613b2ce0",
   "metadata": {},
   "outputs": [],
   "source": [
    "def CV_linear(train_test, n_folds, p=1):\n",
    "    N = train_test.shape[0] # Number of observations                          \n",
    "    \n",
    "    size = round(N/n_folds) # The size of each \n",
    "    \n",
    "    MSE = np.empty(n_folds) #MSE evaluated on the test data\n",
    "    yhat = np.empty((N, n_folds))\n",
    "\n",
    "    for i in range(n_folds):\n",
    "        # This block just assigns train/test to each fold\n",
    "\n",
    "        test_mask = np.mod(range(N), n_folds)==i\n",
    "        \n",
    "        # Once we have our train/test folds we want to estimate \n",
    "        # the model on the training set and predict on the test\n",
    "        fit = fit_poly(train_test[!test_mask,], p)\n",
    "        yhat[:,i] = fit.predict(train_test[test_mask,]) \n",
    "                                                                             \n",
    "        MSE[i] = mean((train_test[test_mask,\"y\"]-yhat[,i])^2)            \n",
    "\n",
    "    return([MSE, yhat])\n",
    "\n",
    "num_folds = 5       \n",
    "[MSE, yhat] = CV_linear(train_test, num_folds)                           \n",
    "\n",
    "print('MSE evaluated on each test fold:', MSE)"
   ]
  },
  {
   "cell_type": "code",
   "execution_count": null,
   "id": "5077df48-79b5-4e62-b5ab-d341f5485db4",
   "metadata": {},
   "outputs": [],
   "source": [
    "# Wrapping our previous code into a function\n",
    "fit_models(train_test, n_folds, num_p):\n",
    "    mse = np.empty((num_p,n_folds))\n",
    "    for p in range(num_p):\n",
    "        mse[p,:] = CV_linear(train_test, n_folds, p)[1]\n",
    "    return(mse)\n",
    "\n",
    "mse = fit_models(train_test,num_folds, max_p)"
   ]
  },
  {
   "cell_type": "code",
   "execution_count": null,
   "id": "5cc58d80-f3d9-4cbb-bb08-dcd972a57e0d",
   "metadata": {},
   "outputs": [],
   "source": []
  }
 ],
 "metadata": {
  "kernelspec": {
   "display_name": "Python 3 (ipykernel)",
   "language": "python",
   "name": "python3"
  },
  "language_info": {
   "codemirror_mode": {
    "name": "ipython",
    "version": 3
   },
   "file_extension": ".py",
   "mimetype": "text/x-python",
   "name": "python",
   "nbconvert_exporter": "python",
   "pygments_lexer": "ipython3",
   "version": "3.8.12"
  }
 },
 "nbformat": 4,
 "nbformat_minor": 5
}
