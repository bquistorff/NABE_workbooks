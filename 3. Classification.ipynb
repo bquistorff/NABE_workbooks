{
 "cells": [
  {
   "cell_type": "code",
   "execution_count": 1,
   "metadata": {
    "scrolled": false
   },
   "outputs": [
    {
     "name": "stderr",
     "output_type": "stream",
     "text": [
      "Registered S3 methods overwritten by 'ggplot2':\n",
      "  method         from \n",
      "  [.quosures     rlang\n",
      "  c.quosures     rlang\n",
      "  print.quosures rlang\n",
      "Registered S3 method overwritten by 'rvest':\n",
      "  method            from\n",
      "  read_xml.response xml2\n",
      "-- Attaching packages --------------------------------------- tidyverse 1.2.1 --\n",
      "v ggplot2 3.1.1       v purrr   0.3.2  \n",
      "v tibble  2.1.1       v dplyr   0.8.0.1\n",
      "v tidyr   0.8.3       v stringr 1.4.0  \n",
      "v readr   1.3.1       v forcats 0.4.0  \n",
      "-- Conflicts ------------------------------------------ tidyverse_conflicts() --\n",
      "x dplyr::filter() masks stats::filter()\n",
      "x dplyr::lag()    masks stats::lag()\n",
      "\n",
      "Attaching package: 'nlme'\n",
      "\n",
      "The following object is masked from 'package:dplyr':\n",
      "\n",
      "    collapse\n",
      "\n",
      "This is mgcv 1.8-28. For overview type 'help(\"mgcv-package\")'.\n",
      "\n",
      "Attaching package: 'Matrix'\n",
      "\n",
      "The following object is masked from 'package:tidyr':\n",
      "\n",
      "    expand\n",
      "\n",
      "\n",
      "Attaching package: 'foreach'\n",
      "\n",
      "The following objects are masked from 'package:purrr':\n",
      "\n",
      "    accumulate, when\n",
      "\n",
      "Loaded glmnet 2.0-16\n",
      "\n",
      "Type 'citation(\"pROC\")' for a citation.\n"
     ]
    }
   ],
   "source": [
    "\n",
    "\n",
    "suppressWarnings(library(tidyverse, quietly = TRUE, warn.conflicts = FALSE))\n",
    "suppressWarnings(library(caret, quietly = TRUE, warn.conflicts = FALSE))\n",
    "suppressWarnings(library(mgcv, quietly = TRUE, warn.conflicts = FALSE))\n",
    "suppressWarnings(require(gridExtra, quietly = TRUE, warn.conflicts = FALSE))\n",
    "suppressWarnings(library(glmnet, quietly = TRUE, warn.conflicts = FALSE))\n",
    "suppressWarnings(library(margins, quietly = TRUE, warn.conflicts = FALSE))\n",
    "suppressWarnings(library(pROC, quietly = TRUE, warn.conflicts = FALSE))\n",
    "suppressWarnings(library(plotmo, quietly = TRUE, warn.conflicts = FALSE))\n",
    "\n",
    "set.seed(2718281)\n"
   ]
  },
  {
   "cell_type": "markdown",
   "metadata": {},
   "source": [
    "### In this module you will learn:\n",
    "\n",
    "\n",
    "1. How to classify credit card defaults based on observable characteristics\n",
    "2. Examine goodness-of-fit measures for classification\n",
    "3. Explore generalized additive models in R\n",
    "4. Explore shrinkage of nonlinear models\n",
    "\n",
    "### The Data\n",
    "\n",
    "The credit card default data is from Taiwan in 2005. We don't have too many covariates to examine, but the ones we do have should be informative. Let's look at the raw data to see the names and descriptions:\n",
    "\n",
    "| Covariate Name | Description                         |\n",
    "|----------------|-------------------------------------|\n",
    "| LIMIT_BAL      | Amt of credit available             |\n",
    "| SEX            | Indicator for sex                   |\n",
    "| AGE            | Age                                 |\n",
    "| PAY            | Denotes deliquency in past periods  |                     \n",
    "| BILL_AMT       | Denotes amount due in past periods  |\n",
    "| PAY_AMT        | Denotes amount paid in past periods |\n",
    "| educ           | Indicator for Education Level       |\n",
    "| marr           | Indicator for marital status        |\n",
    "| default        | Indicator for default status        |\n",
    "\n",
    "Alright now that we know what the variable names correspond to, let's load in the data.\n"
   ]
  },
  {
   "cell_type": "code",
   "execution_count": 2,
   "metadata": {},
   "outputs": [
    {
     "data": {
      "text/html": [
       "<table>\n",
       "<thead><tr><th scope=col>LIMIT_BAL</th><th scope=col>SEX</th><th scope=col>AGE</th><th scope=col>PAY_0</th><th scope=col>PAY_2</th><th scope=col>PAY_3</th><th scope=col>PAY_4</th><th scope=col>PAY_5</th><th scope=col>PAY_6</th><th scope=col>BILL_AMT1</th></tr></thead>\n",
       "<tbody>\n",
       "\t<tr><td> 20000</td><td>1     </td><td>24    </td><td> 2    </td><td> 2    </td><td>-1    </td><td>-1    </td><td>-2    </td><td>-2    </td><td>  3913</td></tr>\n",
       "\t<tr><td>120000</td><td>1     </td><td>26    </td><td>-1    </td><td> 2    </td><td> 0    </td><td> 0    </td><td> 0    </td><td> 2    </td><td>  2682</td></tr>\n",
       "\t<tr><td> 90000</td><td>1     </td><td>34    </td><td> 0    </td><td> 0    </td><td> 0    </td><td> 0    </td><td> 0    </td><td> 0    </td><td> 29239</td></tr>\n",
       "\t<tr><td> 50000</td><td>1     </td><td>37    </td><td> 0    </td><td> 0    </td><td> 0    </td><td> 0    </td><td> 0    </td><td> 0    </td><td> 46990</td></tr>\n",
       "\t<tr><td> 50000</td><td>0     </td><td>57    </td><td>-1    </td><td> 0    </td><td>-1    </td><td> 0    </td><td> 0    </td><td> 0    </td><td>  8617</td></tr>\n",
       "\t<tr><td> 50000</td><td>0     </td><td>37    </td><td> 0    </td><td> 0    </td><td> 0    </td><td> 0    </td><td> 0    </td><td> 0    </td><td> 64400</td></tr>\n",
       "\t<tr><td>500000</td><td>0     </td><td>29    </td><td> 0    </td><td> 0    </td><td> 0    </td><td> 0    </td><td> 0    </td><td> 0    </td><td>367965</td></tr>\n",
       "\t<tr><td>100000</td><td>1     </td><td>23    </td><td> 0    </td><td>-1    </td><td>-1    </td><td> 0    </td><td> 0    </td><td>-1    </td><td> 11876</td></tr>\n",
       "\t<tr><td>140000</td><td>1     </td><td>28    </td><td> 0    </td><td> 0    </td><td> 2    </td><td> 0    </td><td> 0    </td><td> 0    </td><td> 11285</td></tr>\n",
       "\t<tr><td> 20000</td><td>0     </td><td>35    </td><td>-2    </td><td>-2    </td><td>-2    </td><td>-2    </td><td>-1    </td><td>-1    </td><td>     0</td></tr>\n",
       "</tbody>\n",
       "</table>\n"
      ],
      "text/latex": [
       "\\begin{tabular}{r|llllllllll}\n",
       " LIMIT\\_BAL & SEX & AGE & PAY\\_0 & PAY\\_2 & PAY\\_3 & PAY\\_4 & PAY\\_5 & PAY\\_6 & BILL\\_AMT1\\\\\n",
       "\\hline\n",
       "\t  20000 & 1      & 24     &  2     &  2     & -1     & -1     & -2     & -2     &   3913\\\\\n",
       "\t 120000 & 1      & 26     & -1     &  2     &  0     &  0     &  0     &  2     &   2682\\\\\n",
       "\t  90000 & 1      & 34     &  0     &  0     &  0     &  0     &  0     &  0     &  29239\\\\\n",
       "\t  50000 & 1      & 37     &  0     &  0     &  0     &  0     &  0     &  0     &  46990\\\\\n",
       "\t  50000 & 0      & 57     & -1     &  0     & -1     &  0     &  0     &  0     &   8617\\\\\n",
       "\t  50000 & 0      & 37     &  0     &  0     &  0     &  0     &  0     &  0     &  64400\\\\\n",
       "\t 500000 & 0      & 29     &  0     &  0     &  0     &  0     &  0     &  0     & 367965\\\\\n",
       "\t 100000 & 1      & 23     &  0     & -1     & -1     &  0     &  0     & -1     &  11876\\\\\n",
       "\t 140000 & 1      & 28     &  0     &  0     &  2     &  0     &  0     &  0     &  11285\\\\\n",
       "\t  20000 & 0      & 35     & -2     & -2     & -2     & -2     & -1     & -1     &      0\\\\\n",
       "\\end{tabular}\n"
      ],
      "text/markdown": [
       "\n",
       "| LIMIT_BAL | SEX | AGE | PAY_0 | PAY_2 | PAY_3 | PAY_4 | PAY_5 | PAY_6 | BILL_AMT1 |\n",
       "|---|---|---|---|---|---|---|---|---|---|\n",
       "|  20000 | 1      | 24     |  2     |  2     | -1     | -1     | -2     | -2     |   3913 |\n",
       "| 120000 | 1      | 26     | -1     |  2     |  0     |  0     |  0     |  2     |   2682 |\n",
       "|  90000 | 1      | 34     |  0     |  0     |  0     |  0     |  0     |  0     |  29239 |\n",
       "|  50000 | 1      | 37     |  0     |  0     |  0     |  0     |  0     |  0     |  46990 |\n",
       "|  50000 | 0      | 57     | -1     |  0     | -1     |  0     |  0     |  0     |   8617 |\n",
       "|  50000 | 0      | 37     |  0     |  0     |  0     |  0     |  0     |  0     |  64400 |\n",
       "| 500000 | 0      | 29     |  0     |  0     |  0     |  0     |  0     |  0     | 367965 |\n",
       "| 100000 | 1      | 23     |  0     | -1     | -1     |  0     |  0     | -1     |  11876 |\n",
       "| 140000 | 1      | 28     |  0     |  0     |  2     |  0     |  0     |  0     |  11285 |\n",
       "|  20000 | 0      | 35     | -2     | -2     | -2     | -2     | -1     | -1     |      0 |\n",
       "\n"
      ],
      "text/plain": [
       "   LIMIT_BAL SEX AGE PAY_0 PAY_2 PAY_3 PAY_4 PAY_5 PAY_6 BILL_AMT1\n",
       "1   20000    1   24   2     2    -1    -1    -2    -2      3913   \n",
       "2  120000    1   26  -1     2     0     0     0     2      2682   \n",
       "3   90000    1   34   0     0     0     0     0     0     29239   \n",
       "4   50000    1   37   0     0     0     0     0     0     46990   \n",
       "5   50000    0   57  -1     0    -1     0     0     0      8617   \n",
       "6   50000    0   37   0     0     0     0     0     0     64400   \n",
       "7  500000    0   29   0     0     0     0     0     0    367965   \n",
       "8  100000    1   23   0    -1    -1     0     0    -1     11876   \n",
       "9  140000    1   28   0     0     2     0     0     0     11285   \n",
       "10  20000    0   35  -2    -2    -2    -2    -1    -1         0   "
      ]
     },
     "metadata": {},
     "output_type": "display_data"
    },
    {
     "name": "stdout",
     "output_type": "stream",
     "text": [
      "Dataset dimesions:  30000 31"
     ]
    }
   ],
   "source": [
    "defaults = read.csv('default.csv')   \n",
    "# Reads csv files into R\n",
    "defaults[1:10,1:10]                               \n",
    "# Examine the first few rows of our data                        \n",
    "cat('Dataset dimesions: ', dim(defaults))            \n",
    "# Returns the dimension of the dataset \n",
    "defaults$default = as.factor(defaults$default)"
   ]
  },
  {
   "cell_type": "markdown",
   "metadata": {},
   "source": [
    "## Validation Split in Discrete Data\n",
    "\n",
    "One thing we have to be careful about in classification is how we split the sample to preserve the balance of the data. Let's see what proportion of the sample actually defaults."
   ]
  },
  {
   "cell_type": "code",
   "execution_count": 3,
   "metadata": {},
   "outputs": [
    {
     "name": "stdout",
     "output_type": "stream",
     "text": [
      "proportion of defaults:  0.2840267"
     ]
    },
    {
     "data": {
      "image/png": "[encoded data removed]",
      "text/plain": [
       "plot without title"
      ]
     },
     "metadata": {},
     "output_type": "display_data"
    }
   ],
   "source": [
    "ggplot(defaults, aes(default)) + geom_bar()\n",
    "cat('proportion of defaults: ', sum(defaults$default==1)/sum(defaults$default==0))"
   ]
  },
  {
   "cell_type": "markdown",
   "metadata": {},
   "source": [
    "It looks like a bit more than $\\frac{1}{4}$ of the sample defaults. As we did before, let's split our data into train-test-validation sets, but this time we are going to use the built in 'createDataPartition' function. We want to make sure that our splits preserve this proportion. This function will automatically balance the splits based on a specified covariate. In this case we are balancing on $default$."
   ]
  },
  {
   "cell_type": "code",
   "execution_count": 4,
   "metadata": {},
   "outputs": [],
   "source": [
    "## Splitting the data\n",
    "trainIndex = createDataPartition(defaults$default, p = .9,\n",
    "                                  list = FALSE, \n",
    "                                  times = 1)\n",
    "train_test = defaults[trainIndex,]\n",
    "validation = defaults[-trainIndex,]\n"
   ]
  },
  {
   "cell_type": "markdown",
   "metadata": {},
   "source": [
    "## Building a Classifier\n",
    "\n",
    "To get started we can train a very simple classifier based only on $SEX$, $AGE$, $EDUC$, $MARR$, and $LIMIT$_$BAL$. The simple classifier will use logistic regression. This is very easy to implement in R. The only changes we have to make in the train function is to specify \"glm\" instead of \"lm\" and change the \"family\" to binomial. Let's examine the model."
   ]
  },
  {
   "cell_type": "code",
   "execution_count": 5,
   "metadata": {
    "scrolled": false
   },
   "outputs": [
    {
     "data": {
      "text/plain": [
       "\n",
       "Call:\n",
       "glm(formula = default ~ ., family = \"binomial\", data = train_tmp)\n",
       "\n",
       "Deviance Residuals: \n",
       "    Min       1Q   Median       3Q      Max  \n",
       "-0.9684  -0.7678  -0.6480  -0.4127   2.9233  \n",
       "\n",
       "Coefficients:\n",
       "              Estimate Std. Error z value Pr(>|z|)    \n",
       "(Intercept) -1.304e+01  1.220e+02  -0.107   0.9148    \n",
       "SEX         -1.656e-01  3.405e-02  -4.863 1.16e-06 ***\n",
       "AGE          2.076e-03  2.065e-03   1.005   0.3147    \n",
       "LIMIT_BAL   -3.325e-06  1.581e-07 -21.033  < 2e-16 ***\n",
       "educ.._1     1.094e+01  1.220e+02   0.090   0.9285    \n",
       "educ.._2     1.097e+01  1.220e+02   0.090   0.9283    \n",
       "educ.._3     1.096e+01  1.220e+02   0.090   0.9284    \n",
       "educ.._4     9.566e+00  1.220e+02   0.078   0.9375    \n",
       "educ.._5     9.052e+00  1.220e+02   0.074   0.9408    \n",
       "educ.._6     1.060e+01  1.220e+02   0.087   0.9308    \n",
       "marr.._1     1.485e+00  6.032e-01   2.462   0.0138 *  \n",
       "marr.._2     1.277e+00  6.033e-01   2.117   0.0343 *  \n",
       "marr.._3     1.311e+00  6.215e-01   2.109   0.0349 *  \n",
       "---\n",
       "Signif. codes:  0 '***' 0.001 '**' 0.01 '*' 0.05 '.' 0.1 ' ' 1\n",
       "\n",
       "(Dispersion parameter for binomial family taken to be 1)\n",
       "\n",
       "    Null deviance: 22832  on 21601  degrees of freedom\n",
       "Residual deviance: 22134  on 21589  degrees of freedom\n",
       "AIC: 22160\n",
       "\n",
       "Number of Fisher Scoring iterations: 11\n"
      ]
     },
     "metadata": {},
     "output_type": "display_data"
    }
   ],
   "source": [
    "train1 = cbind(train_test[c('default','SEX','AGE','LIMIT_BAL')],\n",
    "               select(train_test,starts_with('educ')),\n",
    "           select(train_test,starts_with('marr')))\n",
    "\n",
    "\n",
    "# Lets just do a single split here into train-test\n",
    "\n",
    "tmp = createDataPartition(train1$default, p = .8,\n",
    "                                  list = FALSE, \n",
    "                                  times = 1)\n",
    "train_tmp = train1[tmp,]\n",
    "test_tmp = train1[-tmp,]\n",
    "\n",
    "\n",
    "Logistic = glm(default~., data= train_tmp, family='binomial')       \n",
    "#GLM (generalized linear model) with family=binomial\n",
    "\n",
    "summary(Logistic)"
   ]
  },
  {
   "cell_type": "markdown",
   "metadata": {},
   "source": [
    "## Intepreting the Classifier\n",
    "\n",
    "This is the full output from our logistic regression. Remember unlike the linear model, the coefficients themselves do not have a direct interpretation. However, we do care about the statistical significance of the parameters. We can see that in this particular specification the most important factors are sex and limit balance. These results are consistent with other findings. The \"SEX\" variable indicates the individual is Female and the sign is negative, i.e. Females are less likely to default than Males (ceteris paribus). Naturally, a higher limit balance should indicate a lower likelihood of default."
   ]
  },
  {
   "cell_type": "markdown",
   "metadata": {},
   "source": [
    "## What about Marginal Effects?\n",
    "\n",
    "Since we can't directly interpret the coefficients as marginal effects we need to perform an extra step. We can get average marginal effects for all covariates in the model using the margins package."
   ]
  },
  {
   "cell_type": "code",
   "execution_count": 6,
   "metadata": {},
   "outputs": [
    {
     "data": {
      "text/html": [
       "<table>\n",
       "<thead><tr><th scope=col>factor</th><th scope=col>AME</th><th scope=col>SE</th><th scope=col>z</th><th scope=col>p</th><th scope=col>lower</th><th scope=col>upper</th></tr></thead>\n",
       "<tbody>\n",
       "\t<tr><td>AGE          </td><td> 3.469478e-04</td><td>3.450374e-04 </td><td>  1.00553682 </td><td> 3.146384e-01</td><td>-3.293130e-04</td><td> 1.023209e-03</td></tr>\n",
       "\t<tr><td>educ.._1     </td><td> 1.827587e+00</td><td>2.038050e+01 </td><td>  0.08967329 </td><td> 9.285468e-01</td><td>-3.811746e+01</td><td> 4.177263e+01</td></tr>\n",
       "\t<tr><td>educ.._2     </td><td> 1.833441e+00</td><td>2.038050e+01 </td><td>  0.08996056 </td><td> 9.283186e-01</td><td>-3.811160e+01</td><td> 4.177848e+01</td></tr>\n",
       "\t<tr><td>educ.._3     </td><td> 1.831570e+00</td><td>2.038050e+01 </td><td>  0.08986875 </td><td> 9.283915e-01</td><td>-3.811347e+01</td><td> 4.177661e+01</td></tr>\n",
       "\t<tr><td>educ.._4     </td><td> 1.598581e+00</td><td>2.038064e+01 </td><td>  0.07843625 </td><td> 9.374810e-01</td><td>-3.834675e+01</td><td> 4.154391e+01</td></tr>\n",
       "\t<tr><td>educ.._5     </td><td> 1.512672e+00</td><td>2.038059e+01 </td><td>  0.07422122 </td><td> 9.408344e-01</td><td>-3.843255e+01</td><td> 4.145790e+01</td></tr>\n",
       "\t<tr><td>educ.._6     </td><td> 1.770643e+00</td><td>2.038062e+01 </td><td>  0.08687875 </td><td> 9.307679e-01</td><td>-3.817464e+01</td><td> 4.171592e+01</td></tr>\n",
       "\t<tr><td>LIMIT_BAL    </td><td>-5.556140e-07</td><td>2.604589e-08 </td><td>-21.33211575 </td><td>5.716304e-101</td><td>-6.066630e-07</td><td>-5.045650e-07</td></tr>\n",
       "\t<tr><td>marr.._1     </td><td> 2.481500e-01</td><td>1.007763e-01 </td><td>  2.46238401 </td><td> 1.380168e-02</td><td> 5.063204e-02</td><td> 4.456680e-01</td></tr>\n",
       "\t<tr><td>marr.._2     </td><td> 2.133971e-01</td><td>1.008019e-01 </td><td>  2.11699598 </td><td> 3.426019e-02</td><td> 1.582912e-02</td><td> 4.109652e-01</td></tr>\n",
       "\t<tr><td>marr.._3     </td><td> 2.190869e-01</td><td>1.038485e-01 </td><td>  2.10967817 </td><td> 3.488609e-02</td><td> 1.554759e-02</td><td> 4.226262e-01</td></tr>\n",
       "\t<tr><td>SEX          </td><td>-2.767011e-02</td><td>5.681551e-03 </td><td> -4.87016894 </td><td> 1.115029e-06</td><td>-3.880575e-02</td><td>-1.653448e-02</td></tr>\n",
       "</tbody>\n",
       "</table>\n"
      ],
      "text/latex": [
       "\\begin{tabular}{r|lllllll}\n",
       " factor & AME & SE & z & p & lower & upper\\\\\n",
       "\\hline\n",
       "\t AGE           &  3.469478e-04 & 3.450374e-04  &   1.00553682  &  3.146384e-01 & -3.293130e-04 &  1.023209e-03\\\\\n",
       "\t educ..\\_1    &  1.827587e+00 & 2.038050e+01  &   0.08967329  &  9.285468e-01 & -3.811746e+01 &  4.177263e+01\\\\\n",
       "\t educ..\\_2    &  1.833441e+00 & 2.038050e+01  &   0.08996056  &  9.283186e-01 & -3.811160e+01 &  4.177848e+01\\\\\n",
       "\t educ..\\_3    &  1.831570e+00 & 2.038050e+01  &   0.08986875  &  9.283915e-01 & -3.811347e+01 &  4.177661e+01\\\\\n",
       "\t educ..\\_4    &  1.598581e+00 & 2.038064e+01  &   0.07843625  &  9.374810e-01 & -3.834675e+01 &  4.154391e+01\\\\\n",
       "\t educ..\\_5    &  1.512672e+00 & 2.038059e+01  &   0.07422122  &  9.408344e-01 & -3.843255e+01 &  4.145790e+01\\\\\n",
       "\t educ..\\_6    &  1.770643e+00 & 2.038062e+01  &   0.08687875  &  9.307679e-01 & -3.817464e+01 &  4.171592e+01\\\\\n",
       "\t LIMIT\\_BAL   & -5.556140e-07 & 2.604589e-08  & -21.33211575  & 5.716304e-101 & -6.066630e-07 & -5.045650e-07\\\\\n",
       "\t marr..\\_1    &  2.481500e-01 & 1.007763e-01  &   2.46238401  &  1.380168e-02 &  5.063204e-02 &  4.456680e-01\\\\\n",
       "\t marr..\\_2    &  2.133971e-01 & 1.008019e-01  &   2.11699598  &  3.426019e-02 &  1.582912e-02 &  4.109652e-01\\\\\n",
       "\t marr..\\_3    &  2.190869e-01 & 1.038485e-01  &   2.10967817  &  3.488609e-02 &  1.554759e-02 &  4.226262e-01\\\\\n",
       "\t SEX           & -2.767011e-02 & 5.681551e-03  &  -4.87016894  &  1.115029e-06 & -3.880575e-02 & -1.653448e-02\\\\\n",
       "\\end{tabular}\n"
      ],
      "text/markdown": [
       "\n",
       "| factor | AME | SE | z | p | lower | upper |\n",
       "|---|---|---|---|---|---|---|\n",
       "| AGE           |  3.469478e-04 | 3.450374e-04  |   1.00553682  |  3.146384e-01 | -3.293130e-04 |  1.023209e-03 |\n",
       "| educ.._1      |  1.827587e+00 | 2.038050e+01  |   0.08967329  |  9.285468e-01 | -3.811746e+01 |  4.177263e+01 |\n",
       "| educ.._2      |  1.833441e+00 | 2.038050e+01  |   0.08996056  |  9.283186e-01 | -3.811160e+01 |  4.177848e+01 |\n",
       "| educ.._3      |  1.831570e+00 | 2.038050e+01  |   0.08986875  |  9.283915e-01 | -3.811347e+01 |  4.177661e+01 |\n",
       "| educ.._4      |  1.598581e+00 | 2.038064e+01  |   0.07843625  |  9.374810e-01 | -3.834675e+01 |  4.154391e+01 |\n",
       "| educ.._5      |  1.512672e+00 | 2.038059e+01  |   0.07422122  |  9.408344e-01 | -3.843255e+01 |  4.145790e+01 |\n",
       "| educ.._6      |  1.770643e+00 | 2.038062e+01  |   0.08687875  |  9.307679e-01 | -3.817464e+01 |  4.171592e+01 |\n",
       "| LIMIT_BAL     | -5.556140e-07 | 2.604589e-08  | -21.33211575  | 5.716304e-101 | -6.066630e-07 | -5.045650e-07 |\n",
       "| marr.._1      |  2.481500e-01 | 1.007763e-01  |   2.46238401  |  1.380168e-02 |  5.063204e-02 |  4.456680e-01 |\n",
       "| marr.._2      |  2.133971e-01 | 1.008019e-01  |   2.11699598  |  3.426019e-02 |  1.582912e-02 |  4.109652e-01 |\n",
       "| marr.._3      |  2.190869e-01 | 1.038485e-01  |   2.10967817  |  3.488609e-02 |  1.554759e-02 |  4.226262e-01 |\n",
       "| SEX           | -2.767011e-02 | 5.681551e-03  |  -4.87016894  |  1.115029e-06 | -3.880575e-02 | -1.653448e-02 |\n",
       "\n"
      ],
      "text/plain": [
       "   factor    AME           SE           z            p            \n",
       "1  AGE        3.469478e-04 3.450374e-04   1.00553682  3.146384e-01\n",
       "2  educ.._1   1.827587e+00 2.038050e+01   0.08967329  9.285468e-01\n",
       "3  educ.._2   1.833441e+00 2.038050e+01   0.08996056  9.283186e-01\n",
       "4  educ.._3   1.831570e+00 2.038050e+01   0.08986875  9.283915e-01\n",
       "5  educ.._4   1.598581e+00 2.038064e+01   0.07843625  9.374810e-01\n",
       "6  educ.._5   1.512672e+00 2.038059e+01   0.07422122  9.408344e-01\n",
       "7  educ.._6   1.770643e+00 2.038062e+01   0.08687875  9.307679e-01\n",
       "8  LIMIT_BAL -5.556140e-07 2.604589e-08 -21.33211575 5.716304e-101\n",
       "9  marr.._1   2.481500e-01 1.007763e-01   2.46238401  1.380168e-02\n",
       "10 marr.._2   2.133971e-01 1.008019e-01   2.11699598  3.426019e-02\n",
       "11 marr.._3   2.190869e-01 1.038485e-01   2.10967817  3.488609e-02\n",
       "12 SEX       -2.767011e-02 5.681551e-03  -4.87016894  1.115029e-06\n",
       "   lower         upper        \n",
       "1  -3.293130e-04  1.023209e-03\n",
       "2  -3.811746e+01  4.177263e+01\n",
       "3  -3.811160e+01  4.177848e+01\n",
       "4  -3.811347e+01  4.177661e+01\n",
       "5  -3.834675e+01  4.154391e+01\n",
       "6  -3.843255e+01  4.145790e+01\n",
       "7  -3.817464e+01  4.171592e+01\n",
       "8  -6.066630e-07 -5.045650e-07\n",
       "9   5.063204e-02  4.456680e-01\n",
       "10  1.582912e-02  4.109652e-01\n",
       "11  1.554759e-02  4.226262e-01\n",
       "12 -3.880575e-02 -1.653448e-02"
      ]
     },
     "metadata": {},
     "output_type": "display_data"
    }
   ],
   "source": [
    "m = suppressWarnings(margins(Logistic))\n",
    "summary(m)"
   ]
  },
  {
   "cell_type": "markdown",
   "metadata": {},
   "source": [
    "\n",
    "## Visualizing Marginal Effects\n",
    "\n",
    "This table may be a bit overwhelming when we have many covariates. It may be easier to visualize these effects directly. Let's just examine the effects over the range of $LIMIT$_$BAL$"
   ]
  },
  {
   "cell_type": "code",
   "execution_count": 7,
   "metadata": {},
   "outputs": [
    {
     "name": "stdout",
     "output_type": "stream",
     "text": [
      "    xvals      yvals      upper      lower\n",
      "1   10000 0.30929124 0.32927953 0.28930295\n",
      "2   51250 0.28078296 0.29870918 0.26285673\n",
      "3   92500 0.25393631 0.27015850 0.23771413\n",
      "4  133750 0.22883983 0.24372081 0.21395886\n",
      "5  175000 0.20554032 0.21941171 0.19166893\n",
      "6  216250 0.18404690 0.19718017 0.17091362\n",
      "7  257500 0.16433613 0.17692781 0.15174445\n",
      "8  298750 0.14635767 0.15853014 0.13418520\n",
      "9  340000 0.13004000 0.14185350 0.11822651\n",
      "10 381250 0.11529590 0.12676530 0.10382650\n",
      "11 422500 0.10202744 0.11313878 0.09091610\n",
      "12 463750 0.09013039 0.10085441 0.07940636\n",
      "13 505000 0.07949779 0.08979990 0.06919568\n",
      "14 546250 0.07002297 0.07986983 0.06017612\n",
      "15 587500 0.06160183 0.07096532 0.05223834\n",
      "16 628750 0.05413448 0.06299377 0.04527520\n",
      "17 670000 0.04752648 0.05586867 0.03918429\n",
      "18 711250 0.04168954 0.04950956 0.03386951\n",
      "19 752500 0.03654196 0.04384189 0.02924203\n",
      "20 793750 0.03200874 0.03879685 0.02522062\n"
     ]
    },
    {
     "data": {
      "image/png": "[encoded data removed]",
      "text/plain": [
       "plot without title"
      ]
     },
     "metadata": {},
     "output_type": "display_data"
    }
   ],
   "source": [
    "cplot(Logistic, \"LIMIT_BAL\")"
   ]
  },
  {
   "cell_type": "markdown",
   "metadata": {},
   "source": [
    "As we expect the probability of default decreases with an increased limit balance, but at a decreasing rate.\n",
    "\n",
    "## A Visualization for Goodness-of-fit\n",
    "\n",
    "Now let's go ahead and look at the ROC (Receiver operating characteristics) curve. This is really just a way to graph the confusion matrix. The idea is to use sensitivity = True Positives / (True Positives + False Negatives) and specificity = True Negative / (True Negative + False Positive) and plot the tradeoff. Depending on the scenario in question one may prefer one over the other, but in general one wants to maximize the AUC (area under the curve)."
   ]
  },
  {
   "cell_type": "code",
   "execution_count": 8,
   "metadata": {},
   "outputs": [
    {
     "name": "stdout",
     "output_type": "stream",
     "text": [
      "Training AUC:  0.6249897\n",
      " Test AUC:  0.6255964"
     ]
    },
    {
     "data": {
      "image/png": "[encoded data removed]",
      "text/plain": [
       "plot without title"
      ]
     },
     "metadata": {},
     "output_type": "display_data"
    }
   ],
   "source": [
    "ROC = roc(train_tmp$default,Logistic$fitted.values)\n",
    "plot(ROC)\n",
    "cat('Training AUC: ', auc(ROC))\n",
    "\n",
    "ROC = roc(test_tmp$default,predict(Logistic,newdata = test_tmp))\n",
    "cat('\\n Test AUC: ', auc(ROC))"
   ]
  },
  {
   "cell_type": "markdown",
   "metadata": {},
   "source": [
    "## How did we do?\n",
    "\n",
    "The simple classifier doesn't do too poorly. Training and test set performance are about the same, but we should be able to obtain better performance by including the remaining covariates. Add the covariates relating to past payment and bill balances using the select() command and run the new regression model."
   ]
  },
  {
   "cell_type": "code",
   "execution_count": 9,
   "metadata": {
    "scrolled": false
   },
   "outputs": [
    {
     "name": "stderr",
     "output_type": "stream",
     "text": [
      "Warning message:\n",
      "\"glm.fit: fitted probabilities numerically 0 or 1 occurred\""
     ]
    }
   ],
   "source": [
    "train2 = cbind(train1,select(train_test,starts_with('PAY')),\n",
    "               select(train_test,starts_with('BILL')))\n",
    "\n",
    "tmp = createDataPartition(train2$default, p = .8,\n",
    "                                  list = FALSE, \n",
    "                                  times = 1)\n",
    "train_tmp = train2[tmp,]\n",
    "test_tmp = train2[-tmp,]\n",
    "\n",
    "Logistic = glm(default~., data= train_tmp, family='binomial')"
   ]
  },
  {
   "cell_type": "markdown",
   "metadata": {},
   "source": [
    "How does our ROC improve by adding these covariates?"
   ]
  },
  {
   "cell_type": "code",
   "execution_count": 10,
   "metadata": {},
   "outputs": [
    {
     "name": "stdout",
     "output_type": "stream",
     "text": [
      "Training AUC:  0.7297437\n",
      " Test AUC:  0.7184873"
     ]
    },
    {
     "data": {
      "image/png": "[encoded data removed]",
      "text/plain": [
       "plot without title"
      ]
     },
     "metadata": {},
     "output_type": "display_data"
    }
   ],
   "source": [
    "ROC = roc(train_tmp$default,Logistic$fitted.values)\n",
    "plot(ROC)\n",
    "cat('Training AUC: ', auc(ROC))\n",
    "\n",
    "ROC = roc(test_tmp$default,predict(Logistic,newdata = test_tmp))\n",
    "cat('\\n Test AUC: ', auc(ROC))\n"
   ]
  },
  {
   "cell_type": "markdown",
   "metadata": {},
   "source": [
    "## Improving our Classifier\n",
    "\n",
    "Looks like adding the additional information helped quite a bit. However, we may be interested in other functional forms for the model.\n",
    "There are many options for flexible functional forms. The most common way is to add higher order terms (polynomials) as we did in the first module. Another common method is to use a cubic spline. Let's consider a very simple extension of the previous model. The only difference will be the $LIMIT$_$BAL$ variable enters the model as an argument of an unknown function. The extension of GLM in this form is called a GAM (Generalized Additive Model).\n",
    "\n",
    "In R we can use the GAM package to estimate these types of models. One thing to keep in mind is the formula must be specified here. The model we are looking at is exactly the same as the previous one except we apply a cubic spline to $LIMIT$_$BAL$, $PAY$_$AMT1$, and $BILL$_$AMT1$. This is denoted by \"s()\" with the option set to \"cr\"."
   ]
  },
  {
   "cell_type": "code",
   "execution_count": 11,
   "metadata": {},
   "outputs": [
    {
     "data": {
      "text/plain": [
       "\n",
       "Family: binomial \n",
       "Link function: logit \n",
       "\n",
       "Formula:\n",
       "default ~ SEX + AGE + educ.._1 + educ.._2 + educ.._3 + educ.._4 + \n",
       "    educ.._5 + educ.._6 + marr.._1 + marr.._2 + marr.._3 + PAY_0 + \n",
       "    PAY_2 + PAY_3 + PAY_4 + PAY_5 + PAY_6 + PAY_AMT2 + PAY_AMT3 + \n",
       "    PAY_AMT4 + PAY_AMT5 + PAY_AMT6 + BILL_AMT1 + BILL_AMT2 + \n",
       "    BILL_AMT3 + BILL_AMT4 + BILL_AMT5 + BILL_AMT6 + s(LIMIT_BAL, \n",
       "    bs = \"cr\") + s(PAY_AMT1, bs = \"cr\") + s(BILL_AMT1, bs = \"cr\")\n",
       "\n",
       "Parametric coefficients:\n",
       "              Estimate Std. Error z value Pr(>|z|)    \n",
       "(Intercept) -2.088e+01  4.910e+03  -0.004  0.99661    \n",
       "SEX         -1.043e-01  3.705e-02  -2.814  0.00489 ** \n",
       "AGE          3.521e-03  2.246e-03   1.568  0.11695    \n",
       "educ.._1     1.867e+01  4.910e+03   0.004  0.99697    \n",
       "educ.._2     1.861e+01  4.910e+03   0.004  0.99698    \n",
       "educ.._3     1.857e+01  4.910e+03   0.004  0.99698    \n",
       "educ.._4     1.722e+01  4.910e+03   0.004  0.99720    \n",
       "educ.._5     1.739e+01  4.910e+03   0.004  0.99717    \n",
       "educ.._6     1.830e+01  4.910e+03   0.004  0.99703    \n",
       "marr.._1     8.298e-01  5.002e-01   1.659  0.09714 .  \n",
       "marr.._2     6.537e-01  5.005e-01   1.306  0.19153    \n",
       "marr.._3     7.639e-01  5.256e-01   1.453  0.14614    \n",
       "PAY_0        5.249e-01  2.079e-02  25.244  < 2e-16 ***\n",
       "PAY_2        1.110e-01  2.731e-02   4.064 4.83e-05 ***\n",
       "PAY_3        1.339e-01  2.809e-02   4.766 1.88e-06 ***\n",
       "PAY_4        7.008e-02  2.929e-02   2.392  0.01675 *  \n",
       "PAY_5        2.996e-02  3.156e-02   0.949  0.34244    \n",
       "PAY_6        2.659e-02  2.636e-02   1.009  0.31317    \n",
       "PAY_AMT2    -1.121e-05  2.657e-06  -4.219 2.45e-05 ***\n",
       "PAY_AMT3     3.476e-07  1.629e-06   0.213  0.83101    \n",
       "PAY_AMT4    -2.547e-06  1.953e-06  -1.304  0.19216    \n",
       "PAY_AMT5    -2.201e-06  2.028e-06  -1.085  0.27772    \n",
       "PAY_AMT6    -1.754e-06  1.540e-06  -1.139  0.25472    \n",
       "BILL_AMT1   -3.410e-07  1.943e-06  -0.175  0.86069    \n",
       "BILL_AMT2    1.417e-06  1.575e-06   0.900  0.36821    \n",
       "BILL_AMT3    1.468e-06  1.492e-06   0.984  0.32504    \n",
       "BILL_AMT4    5.938e-07  1.489e-06   0.399  0.69014    \n",
       "BILL_AMT5   -6.774e-07  1.650e-06  -0.410  0.68149    \n",
       "BILL_AMT6    7.848e-07  1.314e-06   0.597  0.55038    \n",
       "---\n",
       "Signif. codes:  0 '***' 0.001 '**' 0.01 '*' 0.05 '.' 0.1 ' ' 1\n",
       "\n",
       "Approximate significance of smooth terms:\n",
       "               edf Ref.df Chi.sq  p-value    \n",
       "s(LIMIT_BAL) 3.127  3.949  76.83 1.05e-15 ***\n",
       "s(PAY_AMT1)  7.604  8.286  84.61 1.32e-14 ***\n",
       "s(BILL_AMT1) 5.840  6.495 212.15  < 2e-16 ***\n",
       "---\n",
       "Signif. codes:  0 '***' 0.001 '**' 0.01 '*' 0.05 '.' 0.1 ' ' 1\n",
       "\n",
       "Rank: 55/56\n",
       "R-sq.(adj) =  0.176   Deviance explained = 14.7%\n",
       "UBRE = -0.094062  Scale est. = 1         n = 21602"
      ]
     },
     "metadata": {},
     "output_type": "display_data"
    }
   ],
   "source": [
    "formula = as.formula(paste(\"default~\", paste(colnames(train2[, !names(train2) %in% \n",
    "                    c(\"default\",\"LIMIT_BAL\",\"PAY_AMT1\",\"BILL_AMT\")]), \n",
    "                    collapse=\"+\"),'+s(LIMIT_BAL, bs=\"cr\")',\n",
    "                    '+s(PAY_AMT1, bs=\"cr\")',\n",
    "                    '+s(BILL_AMT1, bs=\"cr\")'))\n",
    "\n",
    "Logistic = gam(formula, data= train_tmp, family='binomial')\n",
    "summary(Logistic)\n"
   ]
  },
  {
   "cell_type": "markdown",
   "metadata": {},
   "source": [
    "Notice that $LIMIT$_$BAL$, $PAY$_$AMT1$, and $BILL$_$AMT1$ are now described at the end of summary and are called a \"smooth term\". We can once again evaluate the ROC curve for this model."
   ]
  },
  {
   "cell_type": "code",
   "execution_count": 12,
   "metadata": {
    "scrolled": false
   },
   "outputs": [
    {
     "name": "stdout",
     "output_type": "stream",
     "text": [
      "Training AUC:  0.7581347\n",
      " Test AUC:  0.7471795"
     ]
    },
    {
     "data": {
      "image/png": "[encoded data removed]",
      "text/plain": [
       "plot without title"
      ]
     },
     "metadata": {},
     "output_type": "display_data"
    }
   ],
   "source": [
    "ROC = roc(train_tmp$default,Logistic$fitted.values)\n",
    "plot(ROC)\n",
    "cat('Training AUC: ', auc(ROC))\n",
    "\n",
    "ROC = roc(test_tmp$default,predict(Logistic,newdata = test_tmp))\n",
    "cat('\\n Test AUC: ', auc(ROC))\n",
    "\n"
   ]
  },
  {
   "cell_type": "markdown",
   "metadata": {},
   "source": [
    "## Evaluating the GAM\n",
    "\n",
    "We get an improvement in test performance in this case. One caveat to adding smoothing terms to the model is that they can overfit. There are various ways of handling this, but penalization can and is used in this setting as well. We can do both of these things at once, but for simplicity let's go back to the full model without the smooth terms.\n",
    "\n",
    "## Shrinkage in Nonlinear Models\n",
    "\n",
    "The same penalty terms can be used in nonlinear models as they were in the linear case. Let's use LASSO on our model.\n",
    "\n",
    "\n"
   ]
  },
  {
   "cell_type": "code",
   "execution_count": 13,
   "metadata": {},
   "outputs": [
    {
     "data": {
      "image/png": "[encoded data removed]",
      "text/plain": [
       "Plot with title \"\""
      ]
     },
     "metadata": {},
     "output_type": "display_data"
    }
   ],
   "source": [
    "y = as.double(as.matrix(train_tmp$default))                                     \n",
    "x = as.matrix(train_tmp[,-1])\n",
    "\n",
    "reg = glmnet(x, y, family='binomial', alpha=1, nlambda=1000)\n",
    "cv.lasso = cv.glmnet(x, y, family='binomial', alpha=1, nfolds=5, nlambda=1000)      \n",
    "plot_glmnet(reg, label=TRUE, s = cv.lasso$lambda.min, xvar=\"lambda\")\n",
    "                              \n"
   ]
  },
  {
   "cell_type": "markdown",
   "metadata": {},
   "source": [
    "As before the coefficients are shrinking towards $0$ as the penalty increases. We see the coefficient for $PAY$_$0$ is the final value to reach zero. Although we should be careful about correlation between the independent variables, this suggests that how much an individual paid in the last period is the most important feature of our classifier (at least for this specification)."
   ]
  },
  {
   "cell_type": "code",
   "execution_count": 14,
   "metadata": {},
   "outputs": [
    {
     "name": "stdout",
     "output_type": "stream",
     "text": [
      "Training AUC:  0.7223258\n",
      " Test AUC:  0.7107215"
     ]
    },
    {
     "data": {
      "image/png": "[encoded data removed]",
      "text/plain": [
       "plot without title"
      ]
     },
     "metadata": {},
     "output_type": "display_data"
    }
   ],
   "source": [
    "ROC = roc(train_tmp$default,c(predict(cv.lasso,newx=x)))\n",
    "plot(ROC)\n",
    "cat('Training AUC: ', auc(ROC))\n",
    "\n",
    "\n",
    "xtest = as.matrix(test_tmp[,-1])\n",
    "ytest = as.double(as.matrix(test_tmp$default))\n",
    "ROC = roc(test_tmp$default,c(predict(cv.lasso,newx=xtest)))\n",
    "cat('\\n Test AUC: ', auc(ROC))\n",
    "\n"
   ]
  },
  {
   "cell_type": "markdown",
   "metadata": {},
   "source": [
    "## Exercise: Module 3\n",
    "\n",
    "In this module we saw how to split data when the outcome variable is binary to ensure proper balance across the splits. We built a simple linear classifier using logistic regression and examined the individual significance of the parameters. In addition we showed how one can compute and display marginal effects of these covariates. We introduced the concept of ROC for goodness-of-fit and examined both GAMs and shrinkage. An interesting question to ask is what would happen if we subset the sample so that the default rate is much lower, i.e. the outcome variable is very imbalanced?\n",
    "\n",
    "1. Subsample the data such that the default rate is much lower ($0.5\\%$)\n",
    "2. What happens when you run the logistic regression on this data?\n",
    "2. Redo the LASSO regression on this subsample\n",
    "3. What do you find?\n"
   ]
  },
  {
   "cell_type": "markdown",
   "metadata": {},
   "source": [
    "We have seen that when the proportion of non-zero to zero outcomes is very large or small we may need to consider using shrinkage methods instead of our simple linear classifier. "
   ]
  },
  {
   "cell_type": "code",
   "execution_count": null,
   "metadata": {},
   "outputs": [],
   "source": []
  }
 ],
 "metadata": {
  "kernelspec": {
   "display_name": "R",
   "language": "R",
   "name": "ir"
  },
  "language_info": {
   "codemirror_mode": "r",
   "file_extension": ".r",
   "mimetype": "text/x-r-source",
   "name": "R",
   "pygments_lexer": "r",
   "version": "3.6.1"
  }
 },
 "nbformat": 4,
 "nbformat_minor": 2
}
