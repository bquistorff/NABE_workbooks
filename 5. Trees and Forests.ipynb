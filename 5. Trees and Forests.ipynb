{
 "cells": [
  {
   "cell_type": "code",
   "execution_count": null,
   "metadata": {},
   "outputs": [],
   "source": [
    "install.packages(setdiff(c(\"caret\", \"rpart.plot\", \"ranger\", \"e1071\", \"randomForest\"), rownames(installed.packages())))\n",
    "curl::curl_download(\"https://github.com/bquistorff/NABE_workbooks/raw/colab/ahs_clean.zip\", \"ahs_clean.zip\")"
   ]
  },
  {
   "cell_type": "code",
   "execution_count": 1,
   "metadata": {},
   "outputs": [
    {
     "name": "stderr",
     "output_type": "stream",
     "text": [
      "Registered S3 methods overwritten by 'ggplot2':\n",
      "  method         from \n",
      "  [.quosures     rlang\n",
      "  c.quosures     rlang\n",
      "  print.quosures rlang\n",
      "Registered S3 method overwritten by 'rvest':\n",
      "  method            from\n",
      "  read_xml.response xml2\n",
      "-- Attaching packages --------------------------------------- tidyverse 1.2.1 --\n",
      "v tibble  2.1.1       v purrr   0.3.2  \n",
      "v tidyr   0.8.3       v dplyr   0.8.0.1\n",
      "v readr   1.3.1       v stringr 1.4.0  \n",
      "v tibble  2.1.1       v forcats 0.4.0  \n",
      "-- Conflicts ------------------------------------------ tidyverse_conflicts() --\n",
      "x dplyr::filter() masks stats::filter()\n",
      "x dplyr::lag()    masks stats::lag()\n",
      "randomForest 4.6-14\n",
      "Type rfNews() to see new features/changes/bug fixes.\n"
     ]
    }
   ],
   "source": [
    "\n",
    "suppressWarnings(library(rpart, quietly = TRUE, warn.conflicts = FALSE))\n",
    "suppressWarnings(library(rpart.plot, quietly = TRUE, warn.conflicts = FALSE))\n",
    "suppressWarnings(library(ggplot2, quietly = TRUE, warn.conflicts = FALSE))\n",
    "suppressWarnings(library(tidyverse, quietly = TRUE, warn.conflicts = FALSE))\n",
    "suppressWarnings(library(ranger, quietly = TRUE, warn.conflicts = FALSE))\n",
    "suppressWarnings(library(e1071, quietly = TRUE, warn.conflicts = FALSE))\n",
    "suppressWarnings(library(caret, quietly = TRUE, warn.conflicts = FALSE))\n",
    "suppressWarnings(library(randomForest, quietly = TRUE, warn.conflicts = FALSE))\n"
   ]
  },
  {
   "cell_type": "markdown",
   "metadata": {},
   "source": [
    "### In this module you will learn how to:\n",
    "\n",
    "1. Build a nonparametric model of house prices using regression trees\n",
    "2. Examine random forests and what the hyperparameters correspond to\n",
    "\n",
    "\n",
    "### The Data\n",
    "\n",
    "In this module we will re-examine the Housing data. However, instead of assuming the model is linear ($Y = X\\beta + \\varepsilon$) we will be agnostic about functional form, i.e. $Y=g(X)+\\varepsilon$. To estimate the unknown function $g(X)$ we will use Regression Trees and Forests."
   ]
  },
  {
   "cell_type": "code",
   "execution_count": 2,
   "metadata": {},
   "outputs": [
    {
     "name": "stdout",
     "output_type": "stream",
     "text": [
      "Dataset dimesions:  51759 212"
     ]
    },
    {
     "data": {
      "text/html": [
       "<table>\n",
       "<thead><tr><th scope=col>LOGVALUE</th><th scope=col>LOT</th><th scope=col>UNITSF</th><th scope=col>CLIMB</th><th scope=col>DIRAC</th><th scope=col>NUMAIR</th><th scope=col>BUSPER</th><th scope=col>EXCLUS</th><th scope=col>HOWH</th><th scope=col>NUMCOLD</th></tr></thead>\n",
       "<tbody>\n",
       "\t<tr><td>0.6931472</td><td>   900   </td><td>2314.18  </td><td>2.011952 </td><td>1.51928  </td><td>1.730885 </td><td>0        </td><td>0        </td><td> 6       </td><td>1.828194 </td></tr>\n",
       "\t<tr><td>0.6931472</td><td> 14520   </td><td>2500.00  </td><td>2.011952 </td><td>1.51928  </td><td>1.730885 </td><td>0        </td><td>0        </td><td>10       </td><td>1.828194 </td></tr>\n",
       "\t<tr><td>0.6931472</td><td> 11000   </td><td>7507.00  </td><td>2.011952 </td><td>1.51928  </td><td>1.000000 </td><td>0        </td><td>0        </td><td> 9       </td><td>1.828194 </td></tr>\n",
       "\t<tr><td>1.6094379</td><td> 23760   </td><td> 830.00  </td><td>2.011952 </td><td>1.51928  </td><td>1.000000 </td><td>0        </td><td>0        </td><td>10       </td><td>1.828194 </td></tr>\n",
       "\t<tr><td>1.6094379</td><td>  3000   </td><td>1100.00  </td><td>2.011952 </td><td>1.51928  </td><td>4.000000 </td><td>0        </td><td>0        </td><td> 7       </td><td>1.828194 </td></tr>\n",
       "\t<tr><td>1.6094379</td><td> 44000   </td><td>1000.00  </td><td>2.011952 </td><td>1.51928  </td><td>1.730885 </td><td>0        </td><td>0        </td><td> 6       </td><td>1.828194 </td></tr>\n",
       "\t<tr><td>1.6094379</td><td>220000   </td><td>2000.00  </td><td>2.011952 </td><td>1.51928  </td><td>1.000000 </td><td>1        </td><td>0        </td><td> 8       </td><td>1.828194 </td></tr>\n",
       "\t<tr><td>1.6094379</td><td>220000   </td><td>1800.00  </td><td>2.011952 </td><td>1.51928  </td><td>1.730885 </td><td>0        </td><td>0        </td><td>10       </td><td>1.828194 </td></tr>\n",
       "\t<tr><td>1.6094379</td><td> 33000   </td><td>1200.00  </td><td>2.011952 </td><td>1.51928  </td><td>1.730885 </td><td>1        </td><td>0        </td><td>10       </td><td>1.828194 </td></tr>\n",
       "\t<tr><td>1.9459101</td><td> 44000   </td><td>1957.00  </td><td>2.011952 </td><td>1.51928  </td><td>1.730885 </td><td>0        </td><td>0        </td><td> 8       </td><td>1.828194 </td></tr>\n",
       "</tbody>\n",
       "</table>\n"
      ],
      "text/latex": [
       "\\begin{tabular}{r|llllllllll}\n",
       " LOGVALUE & LOT & UNITSF & CLIMB & DIRAC & NUMAIR & BUSPER & EXCLUS & HOWH & NUMCOLD\\\\\n",
       "\\hline\n",
       "\t 0.6931472 &    900    & 2314.18   & 2.011952  & 1.51928   & 1.730885  & 0         & 0         &  6        & 1.828194 \\\\\n",
       "\t 0.6931472 &  14520    & 2500.00   & 2.011952  & 1.51928   & 1.730885  & 0         & 0         & 10        & 1.828194 \\\\\n",
       "\t 0.6931472 &  11000    & 7507.00   & 2.011952  & 1.51928   & 1.000000  & 0         & 0         &  9        & 1.828194 \\\\\n",
       "\t 1.6094379 &  23760    &  830.00   & 2.011952  & 1.51928   & 1.000000  & 0         & 0         & 10        & 1.828194 \\\\\n",
       "\t 1.6094379 &   3000    & 1100.00   & 2.011952  & 1.51928   & 4.000000  & 0         & 0         &  7        & 1.828194 \\\\\n",
       "\t 1.6094379 &  44000    & 1000.00   & 2.011952  & 1.51928   & 1.730885  & 0         & 0         &  6        & 1.828194 \\\\\n",
       "\t 1.6094379 & 220000    & 2000.00   & 2.011952  & 1.51928   & 1.000000  & 1         & 0         &  8        & 1.828194 \\\\\n",
       "\t 1.6094379 & 220000    & 1800.00   & 2.011952  & 1.51928   & 1.730885  & 0         & 0         & 10        & 1.828194 \\\\\n",
       "\t 1.6094379 &  33000    & 1200.00   & 2.011952  & 1.51928   & 1.730885  & 1         & 0         & 10        & 1.828194 \\\\\n",
       "\t 1.9459101 &  44000    & 1957.00   & 2.011952  & 1.51928   & 1.730885  & 0         & 0         &  8        & 1.828194 \\\\\n",
       "\\end{tabular}\n"
      ],
      "text/markdown": [
       "\n",
       "| LOGVALUE | LOT | UNITSF | CLIMB | DIRAC | NUMAIR | BUSPER | EXCLUS | HOWH | NUMCOLD |\n",
       "|---|---|---|---|---|---|---|---|---|---|\n",
       "| 0.6931472 |    900    | 2314.18   | 2.011952  | 1.51928   | 1.730885  | 0         | 0         |  6        | 1.828194  |\n",
       "| 0.6931472 |  14520    | 2500.00   | 2.011952  | 1.51928   | 1.730885  | 0         | 0         | 10        | 1.828194  |\n",
       "| 0.6931472 |  11000    | 7507.00   | 2.011952  | 1.51928   | 1.000000  | 0         | 0         |  9        | 1.828194  |\n",
       "| 1.6094379 |  23760    |  830.00   | 2.011952  | 1.51928   | 1.000000  | 0         | 0         | 10        | 1.828194  |\n",
       "| 1.6094379 |   3000    | 1100.00   | 2.011952  | 1.51928   | 4.000000  | 0         | 0         |  7        | 1.828194  |\n",
       "| 1.6094379 |  44000    | 1000.00   | 2.011952  | 1.51928   | 1.730885  | 0         | 0         |  6        | 1.828194  |\n",
       "| 1.6094379 | 220000    | 2000.00   | 2.011952  | 1.51928   | 1.000000  | 1         | 0         |  8        | 1.828194  |\n",
       "| 1.6094379 | 220000    | 1800.00   | 2.011952  | 1.51928   | 1.730885  | 0         | 0         | 10        | 1.828194  |\n",
       "| 1.6094379 |  33000    | 1200.00   | 2.011952  | 1.51928   | 1.730885  | 1         | 0         | 10        | 1.828194  |\n",
       "| 1.9459101 |  44000    | 1957.00   | 2.011952  | 1.51928   | 1.730885  | 0         | 0         |  8        | 1.828194  |\n",
       "\n"
      ],
      "text/plain": [
       "   LOGVALUE  LOT    UNITSF  CLIMB    DIRAC   NUMAIR   BUSPER EXCLUS HOWH\n",
       "1  0.6931472    900 2314.18 2.011952 1.51928 1.730885 0      0       6  \n",
       "2  0.6931472  14520 2500.00 2.011952 1.51928 1.730885 0      0      10  \n",
       "3  0.6931472  11000 7507.00 2.011952 1.51928 1.000000 0      0       9  \n",
       "4  1.6094379  23760  830.00 2.011952 1.51928 1.000000 0      0      10  \n",
       "5  1.6094379   3000 1100.00 2.011952 1.51928 4.000000 0      0       7  \n",
       "6  1.6094379  44000 1000.00 2.011952 1.51928 1.730885 0      0       6  \n",
       "7  1.6094379 220000 2000.00 2.011952 1.51928 1.000000 1      0       8  \n",
       "8  1.6094379 220000 1800.00 2.011952 1.51928 1.730885 0      0      10  \n",
       "9  1.6094379  33000 1200.00 2.011952 1.51928 1.730885 1      0      10  \n",
       "10 1.9459101  44000 1957.00 2.011952 1.51928 1.730885 0      0       8  \n",
       "   NUMCOLD \n",
       "1  1.828194\n",
       "2  1.828194\n",
       "3  1.828194\n",
       "4  1.828194\n",
       "5  1.828194\n",
       "6  1.828194\n",
       "7  1.828194\n",
       "8  1.828194\n",
       "9  1.828194\n",
       "10 1.828194"
      ]
     },
     "metadata": {},
     "output_type": "display_data"
    }
   ],
   "source": [
    "Housing = read.csv(unzip('ahs_clean.zip'))   \n",
    "# Reads csv files into R\n",
    "\n",
    "cat('Dataset dimesions: ',dim(Housing))                  \n",
    "# Returns the dimension of the dataset             \n",
    "\n",
    "Housing$LOGSQFT = log(Housing$UNITSF)\n",
    "Housing$LOGLOT = log(Housing$LOT)\n",
    "\n",
    "Housing[1:10,1:10]                                         \n",
    "# Examine the first few rows and columns of our data                \n"
   ]
  },
  {
   "cell_type": "markdown",
   "metadata": {},
   "source": [
    "Since we already examined this data, let's go ahead and use the larger model with 60 covariates."
   ]
  },
  {
   "cell_type": "code",
   "execution_count": 3,
   "metadata": {},
   "outputs": [],
   "source": [
    "#Splitting the data\n",
    "\n",
    "data_split = function(data,split=.1){\n",
    "\n",
    "    N = dim(data)[1]                         \n",
    "    random = sample(1:N,N,replace=F)          \n",
    "    # Randomly choose the index for the splits\n",
    "    data = data[random,]                      \n",
    "    # Shuffle data\n",
    "    test = data[1:round(N*split),]            \n",
    "    # Splits\n",
    "    train = data[(round(N*split)+1):N,]\n",
    "\n",
    "    \n",
    "    return(list(train,test))\n",
    "}\n",
    "\n",
    "\n",
    "tmp = data_split(Housing) \n",
    "train_test = tmp[[1]]\n",
    "validation = tmp[[2]]"
   ]
  },
  {
   "cell_type": "code",
   "execution_count": 4,
   "metadata": {
    "scrolled": false
   },
   "outputs": [],
   "source": [
    "train1 = train_test[c('LOGVALUE','LOGLOT','LOGSQFT','BEDRMS','BATHS',\n",
    "                      'REGION','METRO','KITCHEN','DISH','WASH','DRY',\n",
    "                      'COOK','DENS','DINING','FAMRM','HALFB','LIVING',\n",
    "                      'OTHFN','RECRM','PORCH','SINK','LAUNDY','FLOORS',\n",
    "                      'CONDO','ROOMS','PLUMB','NOWIRE','AGE')]\n",
    "\n",
    "train1 = cbind(train1,select(train_test,starts_with('Roach')),\n",
    "               select(train_test,starts_with('Rats')),\n",
    "              select(train_test,starts_with('Water')),\n",
    "               select(train_test,starts_with('Cellar')),\n",
    "               select(train_test,starts_with('Num')),\n",
    "               select(train_test,starts_with('Freeze')))\n",
    "\n",
    "\n",
    "val1 = validation[colnames(train1)]\n"
   ]
  },
  {
   "cell_type": "markdown",
   "metadata": {},
   "source": [
    "## Regression Trees\n",
    "\n",
    "How do we actually estimate a decision tree? Well if we are predicting the mean, then we are using a MSE loss function. For regression trees will predict: \n",
    "\n",
    "$\\hat{c}_m = \\frac{\\sum_i y_i 1(x\\in R_m)}{\\sum_i 1(x\\in R_m)}$\n",
    "\n",
    "This is nothing more than the average outcome given the covariate values in the region.\n",
    "\n",
    "\n",
    "When fitting a regression tree one needs to decide how to generate the splits that make up the tree. Further one needs to decide how deep to make the tree. There are different data-driven approaches to making these selections. In this module we will choose the model based on the complexity:\n",
    "\n",
    "$C_\\alpha(T) = \\sum_m N_m Q_m(T) + \\alpha |T|$\n",
    "\n",
    "$N_m$ is the number of observations in node $m$\n",
    "\n",
    "$|T|$ is the number of terminal nodes in tree T\n",
    "\n",
    "$Q_m(T)=\\frac{1}{N_m} \\sum_{i:x_i\\in R_m} (y_i-\\hat{c}_m)^2$\n",
    "\n",
    "## Trees in R\n",
    "\n",
    "Instead of manually choosing the depth of our tree, we will use 'Carat' to tune the penalty $\\alpha$."
   ]
  },
  {
   "cell_type": "code",
   "execution_count": 5,
   "metadata": {},
   "outputs": [
    {
     "name": "stderr",
     "output_type": "stream",
     "text": [
      "Warning message in nominalTrainWorkflow(x = x, y = y, wts = weights, info = trainInfo, :\n",
      "\"There were missing values in resampled performance measures.\""
     ]
    },
    {
     "data": {
      "text/html": [
       "<table>\n",
       "<thead><tr><th scope=col>cp</th><th scope=col>RMSE</th><th scope=col>Rsquared</th><th scope=col>MAE</th><th scope=col>RMSESD</th><th scope=col>RsquaredSD</th><th scope=col>MAESD</th></tr></thead>\n",
       "<tbody>\n",
       "\t<tr><td>0.03478663 </td><td>0.8988914  </td><td>0.2029682  </td><td>0.5972884  </td><td>0.02009004 </td><td>0.019166297</td><td>0.007800018</td></tr>\n",
       "\t<tr><td>0.07372741 </td><td>0.9345346  </td><td>0.1381689  </td><td>0.6275925  </td><td>0.02999106 </td><td>0.042824540</td><td>0.023319109</td></tr>\n",
       "\t<tr><td>0.10976974 </td><td>0.9734860  </td><td>0.1069229  </td><td>0.6667220  </td><td>0.02987317 </td><td>0.001567048</td><td>0.031349563</td></tr>\n",
       "</tbody>\n",
       "</table>\n"
      ],
      "text/latex": [
       "\\begin{tabular}{r|lllllll}\n",
       " cp & RMSE & Rsquared & MAE & RMSESD & RsquaredSD & MAESD\\\\\n",
       "\\hline\n",
       "\t 0.03478663  & 0.8988914   & 0.2029682   & 0.5972884   & 0.02009004  & 0.019166297 & 0.007800018\\\\\n",
       "\t 0.07372741  & 0.9345346   & 0.1381689   & 0.6275925   & 0.02999106  & 0.042824540 & 0.023319109\\\\\n",
       "\t 0.10976974  & 0.9734860   & 0.1069229   & 0.6667220   & 0.02987317  & 0.001567048 & 0.031349563\\\\\n",
       "\\end{tabular}\n"
      ],
      "text/markdown": [
       "\n",
       "| cp | RMSE | Rsquared | MAE | RMSESD | RsquaredSD | MAESD |\n",
       "|---|---|---|---|---|---|---|\n",
       "| 0.03478663  | 0.8988914   | 0.2029682   | 0.5972884   | 0.02009004  | 0.019166297 | 0.007800018 |\n",
       "| 0.07372741  | 0.9345346   | 0.1381689   | 0.6275925   | 0.02999106  | 0.042824540 | 0.023319109 |\n",
       "| 0.10976974  | 0.9734860   | 0.1069229   | 0.6667220   | 0.02987317  | 0.001567048 | 0.031349563 |\n",
       "\n"
      ],
      "text/plain": [
       "  cp         RMSE      Rsquared  MAE       RMSESD     RsquaredSD  MAESD      \n",
       "1 0.03478663 0.8988914 0.2029682 0.5972884 0.02009004 0.019166297 0.007800018\n",
       "2 0.07372741 0.9345346 0.1381689 0.6275925 0.02999106 0.042824540 0.023319109\n",
       "3 0.10976974 0.9734860 0.1069229 0.6667220 0.02987317 0.001567048 0.031349563"
      ]
     },
     "metadata": {},
     "output_type": "display_data"
    }
   ],
   "source": [
    "model <- train(\n",
    "  LOGVALUE ~.,data = train1,               \n",
    "    # formula for the model\n",
    "  method = \"rpart\",                           \n",
    "    # Regression Trees\n",
    "  trControl = trainControl(\n",
    "    method = \"cv\", \n",
    "    number = 5,             \n",
    "      # 5 fold cross-validation\n",
    "  )\n",
    ")\n",
    "\n",
    "model$results"
   ]
  },
  {
   "cell_type": "markdown",
   "metadata": {},
   "source": [
    "## Complexity\n",
    "\n",
    "According to 5-fold cross-validation the best complexity parameter is $\\approx 0.03$. We only tried three different complexity parameters, but this value appears to have the best performance across all three metrics. "
   ]
  },
  {
   "cell_type": "code",
   "execution_count": 6,
   "metadata": {},
   "outputs": [
    {
     "name": "stderr",
     "output_type": "stream",
     "text": [
      "Warning message in model.matrix.default(attr(frame, \"terms\"), frame):\n",
      "\"the response appeared on the right-hand side and was dropped\"Warning message in model.matrix.default(attr(frame, \"terms\"), frame):\n",
      "\"problem with term 1 in model.matrix: no columns are assigned\"Warning message in cats * !isord:\n",
      "\"longer object length is not a multiple of shorter object length\""
     ]
    }
   ],
   "source": [
    "formula = as.formula(paste(\"LOGVALUE~\",\n",
    "            paste(colnames(train1)[1:dim(train1)[2]],collapse=\"+\")))\n",
    "\n",
    "fit_tree = rpart(formula,data=train1, control=c(cp=model$bestTune))"
   ]
  },
  {
   "cell_type": "markdown",
   "metadata": {},
   "source": [
    "## Visualizing the Tree\n",
    "\n",
    "A great feature of regression trees is visualization and interpretation are very straightforward. We can visualize and interpret the regression tree with the following plot"
   ]
  },
  {
   "cell_type": "code",
   "execution_count": 7,
   "metadata": {},
   "outputs": [
    {
     "data": {
      "image/png": "[encoded data removed]",
      "text/plain": [
       "plot without title"
      ]
     },
     "metadata": {},
     "output_type": "display_data"
    }
   ],
   "source": [
    "rpart.plot(fit_tree)"
   ]
  },
  {
   "cell_type": "markdown",
   "metadata": {},
   "source": [
    "We see predicted (rounded) values for this tree above the frequency of those predictions. The interpretation is very easy as well. Consider a value of $REGION$ less than 3.5. The tree tells us that if this is the case we move to the left side. Then we see if the $LOGSQFT$ is less than 7.7. If it is we move left, if not we move right. This process continuous for each node in the tree until the final nodes in the tree. \n",
    "\n",
    "## Performance\n",
    "\n",
    "Let's see how we do on the validation set with this model."
   ]
  },
  {
   "cell_type": "code",
   "execution_count": 8,
   "metadata": {},
   "outputs": [
    {
     "name": "stdout",
     "output_type": "stream",
     "text": [
      "\n",
      "Tree RMSE:  1.016211"
     ]
    }
   ],
   "source": [
    "yhat = predict(fit_tree,val1)\n",
    "rmse = sqrt(mean((val1$LOGVALUE-yhat)^2))\n",
    "cat('\\nTree RMSE: ', rmse)"
   ]
  },
  {
   "cell_type": "markdown",
   "metadata": {},
   "source": [
    "Trees are great for interpretation, but not the best for actual prediction. The RMSE we got is worse than the linear models we estimated in the previous module.\n",
    "\n",
    "## Random Forests\n",
    "\n",
    "One idea that is common in machine learning is to combine weak learners together and produce an ensemble. When one does this with trees the method is known as random forests. The basic idea is combine many shallow trees with only a subset of the covariates and average the predictions. As usual with these algorithms, there are many hyperparameters to choose. To get us started we will fix the number of trees we use to $10$. This is very small for a random forest, but we are just testing this out right now. A typically number of trees to use in practice would be around $200$. Another tuning parameter we need to determine is the number of covariates to split on. Remember that random forests reduce the correlation between trees by subsetting the covariates in each tree. Let's use cross-validation to determine this number over the choices $5,20$, and $50$."
   ]
  },
  {
   "cell_type": "code",
   "execution_count": 9,
   "metadata": {},
   "outputs": [
    {
     "name": "stderr",
     "output_type": "stream",
     "text": [
      "Warning message in model.matrix.default(Terms, m, contrasts):\n",
      "\"the response appeared on the right-hand side and was dropped\"Warning message in model.matrix.default(Terms, m, contrasts):\n",
      "\"problem with term 1 in model.matrix: no columns are assigned\""
     ]
    }
   ],
   "source": [
    "# Grid for number of covariates\n",
    "rf_grid = expand.grid(mtry = c(5, 20, 50), \n",
    "          splitrule = c(\"variance\"), min.node.size=c(5))\n",
    "\n",
    "# train and evaluate the random forest with 5-fold CV\n",
    "fit_forest = train(formula,\n",
    "                   data = train1, \n",
    "                   method = 'ranger',\n",
    "                   trControl = \n",
    "                   trainControl(method = 'cv',\n",
    "                                number = 5),\n",
    "                   tuneGrid = rf_grid, \n",
    "                   num.trees=10\n",
    "                  )"
   ]
  },
  {
   "cell_type": "code",
   "execution_count": 10,
   "metadata": {},
   "outputs": [
    {
     "data": {
      "text/html": [
       "<table>\n",
       "<thead><tr><th scope=col>mtry</th><th scope=col>splitrule</th><th scope=col>min.node.size</th><th scope=col>RMSE</th><th scope=col>Rsquared</th><th scope=col>MAE</th><th scope=col>RMSESD</th><th scope=col>RsquaredSD</th><th scope=col>MAESD</th></tr></thead>\n",
       "<tbody>\n",
       "\t<tr><td> 5         </td><td>variance   </td><td>5          </td><td>0.7605869  </td><td>0.4310417  </td><td>0.4879596  </td><td>0.01776097 </td><td>0.01157978 </td><td>0.005734571</td></tr>\n",
       "\t<tr><td>20         </td><td>variance   </td><td>5          </td><td>0.7585294  </td><td>0.4349509  </td><td>0.4841728  </td><td>0.01592480 </td><td>0.01488887 </td><td>0.006118859</td></tr>\n",
       "\t<tr><td>50         </td><td>variance   </td><td>5          </td><td>0.7710808  </td><td>0.4224557  </td><td>0.4925165  </td><td>0.01596987 </td><td>0.01787877 </td><td>0.005624229</td></tr>\n",
       "</tbody>\n",
       "</table>\n"
      ],
      "text/latex": [
       "\\begin{tabular}{r|lllllllll}\n",
       " mtry & splitrule & min.node.size & RMSE & Rsquared & MAE & RMSESD & RsquaredSD & MAESD\\\\\n",
       "\\hline\n",
       "\t  5          & variance    & 5           & 0.7605869   & 0.4310417   & 0.4879596   & 0.01776097  & 0.01157978  & 0.005734571\\\\\n",
       "\t 20          & variance    & 5           & 0.7585294   & 0.4349509   & 0.4841728   & 0.01592480  & 0.01488887  & 0.006118859\\\\\n",
       "\t 50          & variance    & 5           & 0.7710808   & 0.4224557   & 0.4925165   & 0.01596987  & 0.01787877  & 0.005624229\\\\\n",
       "\\end{tabular}\n"
      ],
      "text/markdown": [
       "\n",
       "| mtry | splitrule | min.node.size | RMSE | Rsquared | MAE | RMSESD | RsquaredSD | MAESD |\n",
       "|---|---|---|---|---|---|---|---|---|\n",
       "|  5          | variance    | 5           | 0.7605869   | 0.4310417   | 0.4879596   | 0.01776097  | 0.01157978  | 0.005734571 |\n",
       "| 20          | variance    | 5           | 0.7585294   | 0.4349509   | 0.4841728   | 0.01592480  | 0.01488887  | 0.006118859 |\n",
       "| 50          | variance    | 5           | 0.7710808   | 0.4224557   | 0.4925165   | 0.01596987  | 0.01787877  | 0.005624229 |\n",
       "\n"
      ],
      "text/plain": [
       "  mtry splitrule min.node.size RMSE      Rsquared  MAE       RMSESD    \n",
       "1  5   variance  5             0.7605869 0.4310417 0.4879596 0.01776097\n",
       "2 20   variance  5             0.7585294 0.4349509 0.4841728 0.01592480\n",
       "3 50   variance  5             0.7710808 0.4224557 0.4925165 0.01596987\n",
       "  RsquaredSD MAESD      \n",
       "1 0.01157978 0.005734571\n",
       "2 0.01488887 0.006118859\n",
       "3 0.01787877 0.005624229"
      ]
     },
     "metadata": {},
     "output_type": "display_data"
    }
   ],
   "source": [
    "fit_forest$results"
   ]
  },
  {
   "cell_type": "markdown",
   "metadata": {},
   "source": [
    "## Evaluating Random Forests\n",
    "\n",
    "First of all we notice that we have a big reduction in RMSE when we use random forests over trees, regardless of the tuning parameter. Secondly the performance is similar across the three specifications although we would expect the RMSE to be best when the number of covariates used is not too small or too large. Why is this? Remember that when the number of covariates used approaches the total number then we are simply bagging trees. These trees will be too highly correlated and prediction will suffer. On the other hand if we use too few covariates the trees will not be able to learn interesting patterns in the data.\n"
   ]
  },
  {
   "cell_type": "markdown",
   "metadata": {},
   "source": [
    "## Exercise: Module 5\n",
    "\n",
    "In this module we have seen how to build a regression tree. In addition to estimating the model we saw how easy it was to build a graph based on the tree. This graph allows for a straightforward interpretation of the model. Unfortunately, while the interpretation was very intuitive, the model performance was not very good. To fix this problem we introduced random forests and explained a few of the tuning parameters that need to be adjusted. Let's see how the results of the previous section change when we allow the number of trees to grow.\n",
    "\n",
    "1. Use the code from the previous section to cross-validate the number of covariates to split on\n",
    "2. Do this for 100 and 200 Trees\n",
    "4. Do the results become more clear?\n",
    "\n"
   ]
  },
  {
   "cell_type": "code",
   "execution_count": null,
   "metadata": {},
   "outputs": [],
   "source": []
  }
 ],
 "metadata": {
  "kernelspec": {
   "display_name": "R",
   "language": "R",
   "name": "ir"
  },
  "language_info": {
   "codemirror_mode": "r",
   "file_extension": ".r",
   "mimetype": "text/x-r-source",
   "name": "R",
   "pygments_lexer": "r",
   "version": "3.6.1"
  }
 },
 "nbformat": 4,
 "nbformat_minor": 2
}
